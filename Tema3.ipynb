{
  "nbformat": 4,
  "nbformat_minor": 0,
  "metadata": {
    "colab": {
      "name": "Tema3.ipynb",
      "provenance": [],
      "collapsed_sections": [],
      "include_colab_link": true
    },
    "kernelspec": {
      "name": "python3",
      "display_name": "Python 3"
    },
    "language_info": {
      "name": "python"
    }
  },
  "cells": [
    {
      "cell_type": "markdown",
      "metadata": {
        "id": "view-in-github",
        "colab_type": "text"
      },
      "source": [
        "<a href=\"https://colab.research.google.com/github/Alexis2411/Hadoop/blob/main/Tema3.ipynb\" target=\"_parent\"><img src=\"https://colab.research.google.com/assets/colab-badge.svg\" alt=\"Open In Colab\"/></a>"
      ]
    },
    {
      "cell_type": "code",
      "execution_count": 1,
      "metadata": {
        "id": "CwhcxaUUmWBU"
      },
      "outputs": [],
      "source": [
        "!apt-get install openjdk-8-jdk-headless -qq > /dev/null\n",
        "!wget -q https://downloads.apache.org/spark/spark-2.4.8/spark-2.4.8-bin-hadoop2.7.tgz\n",
        "!tar xf spark-2.4.8-bin-hadoop2.7.tgz\n",
        "!pip install -q findspark"
      ]
    },
    {
      "cell_type": "code",
      "source": [
        "import os\n",
        "os.environ[\"JAVA_HOME\"] = \"/usr/lib/jvm/java-8-openjdk-amd64\"\n",
        "os.environ[\"SPARK_HOME\"] = \"/content/spark-2.4.8-bin-hadoop2.7\""
      ],
      "metadata": {
        "id": "Zu3GE_OMnT3g"
      },
      "execution_count": 2,
      "outputs": []
    },
    {
      "cell_type": "code",
      "source": [
        "import findspark\n",
        "findspark.init()\n",
        "from pyspark.sql import SparkSession\n",
        "spark = SparkSession.builder.master(\"local[*]\").getOrCreate()\n"
      ],
      "metadata": {
        "id": "Pt8sKuMKnkjG"
      },
      "execution_count": 3,
      "outputs": []
    },
    {
      "cell_type": "code",
      "source": [
        "path_csv=\"/content/BostonHousing.csv\"\n",
        "dataset = spark.read.csv(path_csv,inferSchema=True, header =True)\n",
        "dataset.printSchema()\n"
      ],
      "metadata": {
        "colab": {
          "base_uri": "https://localhost:8080/"
        },
        "id": "lmG_EhbKnoVr",
        "outputId": "2b2bcb67-ab29-4d48-c70d-b7a7097b7d2d"
      },
      "execution_count": 4,
      "outputs": [
        {
          "output_type": "stream",
          "name": "stdout",
          "text": [
            "root\n",
            " |-- crim: double (nullable = true)\n",
            " |-- zn: double (nullable = true)\n",
            " |-- indus: double (nullable = true)\n",
            " |-- chas: integer (nullable = true)\n",
            " |-- nox: double (nullable = true)\n",
            " |-- rm: double (nullable = true)\n",
            " |-- age: double (nullable = true)\n",
            " |-- dis: double (nullable = true)\n",
            " |-- rad: integer (nullable = true)\n",
            " |-- tax: integer (nullable = true)\n",
            " |-- ptratio: double (nullable = true)\n",
            " |-- black: double (nullable = true)\n",
            " |-- lstat: double (nullable = true)\n",
            " |-- medv: double (nullable = true)\n",
            "\n"
          ]
        }
      ]
    },
    {
      "cell_type": "code",
      "source": [
        "from pyspark.ml.feature import VectorAssembler\n",
        "from pyspark.ml.regression import LinearRegression\n",
        "#Input all the features in one vector column\n",
        "assembler = VectorAssembler(inputCols=['crim', 'zn', 'indus', 'chas', 'nox', 'rm', 'age', 'dis', 'rad', 'tax',\n",
        "'ptratio', 'black', 'lstat'], outputCol = 'Attributes')\n",
        "output = assembler.transform(dataset)\n",
        "#Input vs Output\n",
        "finalized_data = output.select(\"Attributes\",\"medv\")\n",
        "finalized_data.show(10)"
      ],
      "metadata": {
        "colab": {
          "base_uri": "https://localhost:8080/"
        },
        "id": "Zo6X2thWn0G2",
        "outputId": "3abf7dd4-4877-4511-cfc2-b6278c9317e4"
      },
      "execution_count": 5,
      "outputs": [
        {
          "output_type": "stream",
          "name": "stdout",
          "text": [
            "+--------------------+----+\n",
            "|          Attributes|medv|\n",
            "+--------------------+----+\n",
            "|[0.00632,18.0,2.3...|24.0|\n",
            "|[0.02731,0.0,7.07...|21.6|\n",
            "|[0.02729,0.0,7.07...|34.7|\n",
            "|[0.03237,0.0,2.18...|33.4|\n",
            "|[0.06905,0.0,2.18...|36.2|\n",
            "|[0.02985,0.0,2.18...|28.7|\n",
            "|[0.08829,12.5,7.8...|22.9|\n",
            "|[0.14455,12.5,7.8...|27.1|\n",
            "|[0.21124,12.5,7.8...|16.5|\n",
            "|[0.17004,12.5,7.8...|18.9|\n",
            "+--------------------+----+\n",
            "only showing top 10 rows\n",
            "\n"
          ]
        }
      ]
    },
    {
      "cell_type": "code",
      "source": [
        "#Split training and testing data\n",
        "train_data,test_data = finalized_data.randomSplit([0.8,0.2])"
      ],
      "metadata": {
        "id": "Oqipg8wgn5Yu"
      },
      "execution_count": 6,
      "outputs": []
    },
    {
      "cell_type": "code",
      "source": [
        "regressor = LinearRegression(featuresCol = 'Attributes', labelCol = 'medv')"
      ],
      "metadata": {
        "id": "5tviRV4Pn92M"
      },
      "execution_count": 7,
      "outputs": []
    },
    {
      "cell_type": "code",
      "source": [
        "#Learn to fit the model from training set\n",
        "regressor = regressor.fit(train_data)"
      ],
      "metadata": {
        "id": "K0ElMRONoDKF"
      },
      "execution_count": 8,
      "outputs": []
    },
    {
      "cell_type": "code",
      "source": [
        "print (\"The coefficient of the model is : %a\", regressor.coefficients)\n",
        "print (\"The Intercept of the model is : %f\", regressor.intercept)"
      ],
      "metadata": {
        "colab": {
          "base_uri": "https://localhost:8080/"
        },
        "id": "2N81OLQ8oEy_",
        "outputId": "a8f53421-5cc7-481d-b1e0-ebae7746ed22"
      },
      "execution_count": 9,
      "outputs": [
        {
          "output_type": "stream",
          "name": "stdout",
          "text": [
            "The coefficient of the model is : %a [-0.08711994619844514,0.04861971218500262,-0.05759433901827429,2.5713706382847583,-17.02314754770964,3.910918394645101,-0.0075735672376323815,-1.5280484698696348,0.25586567281056327,-0.011408489505473018,-0.9235376699849972,0.009222277961547823,-0.4337458539920746]\n",
            "The Intercept of the model is : %f 35.375518766402166\n"
          ]
        }
      ]
    },
    {
      "cell_type": "code",
      "source": [
        "#To predict the prices on testing set\n",
        "Pred_lr = regressor.evaluate(test_data)"
      ],
      "metadata": {
        "id": "cjBZiIJdoIjq"
      },
      "execution_count": 10,
      "outputs": []
    },
    {
      "cell_type": "code",
      "source": [
        "#Predict the model\n",
        "Pred_lr.predictions.show(10)"
      ],
      "metadata": {
        "colab": {
          "base_uri": "https://localhost:8080/"
        },
        "id": "7DmDPZ9CoLig",
        "outputId": "da78cc3c-6257-4c3a-e3b9-eeebc7dc91fa"
      },
      "execution_count": 11,
      "outputs": [
        {
          "output_type": "stream",
          "name": "stdout",
          "text": [
            "+--------------------+----+------------------+\n",
            "|          Attributes|medv|        prediction|\n",
            "+--------------------+----+------------------+\n",
            "|[0.00632,18.0,2.3...|24.0|30.178494501481232|\n",
            "|[0.01311,90.0,1.2...|35.4|31.449861561136597|\n",
            "|[0.01432,100.0,1....|31.6| 33.11656978216796|\n",
            "|[0.01501,90.0,1.2...|50.0| 44.94503216186548|\n",
            "|[0.01538,90.0,3.7...|44.0|37.551617745464156|\n",
            "|[0.0187,85.0,4.15...|23.1|25.544256187537364|\n",
            "|[0.01965,80.0,1.7...|20.1|21.085852437845507|\n",
            "|[0.02498,0.0,1.89...|16.5|22.597288186347527|\n",
            "|[0.02543,55.0,3.7...|23.9| 27.94186235253342|\n",
            "|[0.02729,0.0,7.07...|34.7|30.216025258562112|\n",
            "+--------------------+----+------------------+\n",
            "only showing top 10 rows\n",
            "\n"
          ]
        }
      ]
    },
    {
      "cell_type": "code",
      "source": [
        "#Carry out random forrest regression\n",
        "from pyspark.ml.regression import RandomForestRegressor\n",
        "rfr = RandomForestRegressor(featuresCol = 'Attributes', labelCol = 'medv')\n",
        "\n",
        "#Learn to fit the model from training set\n",
        "rfr = rfr.fit(train_data)\n",
        "\n",
        "#To predict the prices on testing set\n",
        "pred_rfr = rfr.transform(test_data)"
      ],
      "metadata": {
        "id": "4ndiEcUpoQFf"
      },
      "execution_count": 12,
      "outputs": []
    },
    {
      "cell_type": "code",
      "source": [
        "# Select example rows to display.\n",
        "pred_rfr.select('Attributes', 'medv', 'prediction').show(10)"
      ],
      "metadata": {
        "colab": {
          "base_uri": "https://localhost:8080/"
        },
        "id": "f7zNFZBcoXOs",
        "outputId": "358bce9d-7194-4dcd-c8e3-b80678e04b81"
      },
      "execution_count": 13,
      "outputs": [
        {
          "output_type": "stream",
          "name": "stdout",
          "text": [
            "+--------------------+----+------------------+\n",
            "|          Attributes|medv|        prediction|\n",
            "+--------------------+----+------------------+\n",
            "|[0.00632,18.0,2.3...|24.0|29.790627902089863|\n",
            "|[0.01311,90.0,1.2...|35.4| 35.37574369167835|\n",
            "|[0.01432,100.0,1....|31.6|31.279768340021604|\n",
            "|[0.01501,90.0,1.2...|50.0| 45.13964285714285|\n",
            "|[0.01538,90.0,3.7...|44.0| 42.32456197796723|\n",
            "|[0.0187,85.0,4.15...|23.1| 25.36739552769233|\n",
            "|[0.01965,80.0,1.7...|20.1|22.531344766119464|\n",
            "|[0.02498,0.0,1.89...|16.5| 24.38529087227399|\n",
            "|[0.02543,55.0,3.7...|23.9|25.654666190055877|\n",
            "|[0.02729,0.0,7.07...|34.7|36.035065858546574|\n",
            "+--------------------+----+------------------+\n",
            "only showing top 10 rows\n",
            "\n"
          ]
        }
      ]
    },
    {
      "cell_type": "code",
      "source": [
        "#Carry out Gradient-boosted tree regression\n",
        "from pyspark.ml.regression import GBTRegressor\n",
        "gbt = GBTRegressor(featuresCol = 'Attributes', labelCol = 'medv')\n",
        "\n",
        "#Learn to fit the model from training set\n",
        "gbt = gbt.fit(train_data)\n",
        "\n",
        "#To predict the prices on testing set\n",
        "pred_gbt = gbt.transform(test_data)\n",
        "\n",
        "# Select example rows to display.\n",
        "pred_gbt.select('Attributes', 'medv', 'prediction').show(10)"
      ],
      "metadata": {
        "colab": {
          "base_uri": "https://localhost:8080/"
        },
        "id": "bmeJvAq7ocBe",
        "outputId": "d49b4566-3ba5-4fb3-e2e3-a4250405cbc2"
      },
      "execution_count": 14,
      "outputs": [
        {
          "output_type": "stream",
          "name": "stdout",
          "text": [
            "+--------------------+----+------------------+\n",
            "|          Attributes|medv|        prediction|\n",
            "+--------------------+----+------------------+\n",
            "|[0.00632,18.0,2.3...|24.0|  33.4022640112858|\n",
            "|[0.01311,90.0,1.2...|35.4| 34.16448146365419|\n",
            "|[0.01432,100.0,1....|31.6| 31.01975861320538|\n",
            "|[0.01501,90.0,1.2...|50.0|46.597097765081344|\n",
            "|[0.01538,90.0,3.7...|44.0|47.040137156620396|\n",
            "|[0.0187,85.0,4.15...|23.1| 23.37727593023562|\n",
            "|[0.01965,80.0,1.7...|20.1| 21.76711687554088|\n",
            "|[0.02498,0.0,1.89...|16.5|27.195856671683668|\n",
            "|[0.02543,55.0,3.7...|23.9|24.011048810888507|\n",
            "|[0.02729,0.0,7.07...|34.7|29.332608284506346|\n",
            "+--------------------+----+------------------+\n",
            "only showing top 10 rows\n",
            "\n"
          ]
        }
      ]
    },
    {
      "cell_type": "code",
      "source": [
        "import numpy as np\n",
        "print (\"Note: the last rows are the information for Intercept\")\n",
        "print (\"##\",\"-------------------------------------------------\")\n",
        "print (\"##\",\" Estimate | Std.Error | t Values | P-value\")\n",
        "coef = np.append(list(regressor.coefficients),regressor.intercept)\n",
        "Summary=regressor.summary\n",
        "\n",
        "for i in range(len(Summary.pValues)):\n",
        "  print (\"##\",'{:10.6f}'.format(coef[i]),\\\n",
        "  '{:10.6f}'.format(Summary.coefficientStandardErrors[i]),\\\n",
        "  '{:8.3f}'.format(Summary.tValues[i]),\\\n",
        "  '{:10.6f}'.format(Summary.pValues[i]))\n",
        "\n",
        "print (\"##\",'---')\n",
        "print (\"##\",\"Mean squared error: % .6f\" \\\n",
        "  % Summary.meanSquaredError, \", \\\n",
        "  RMSE: % .6f\" \\\n",
        "  % Summary.rootMeanSquaredError )\n",
        "print (\"##\",\"Multiple R-squared: %f\" % Summary.r2, \", \\\n",
        "  Total iterations: %i\"% Summary.totalIterations)\n"
      ],
      "metadata": {
        "colab": {
          "base_uri": "https://localhost:8080/"
        },
        "id": "EIGpbI_3otCu",
        "outputId": "f7bcd327-d76d-4f2d-e908-c459d0041713"
      },
      "execution_count": 15,
      "outputs": [
        {
          "output_type": "stream",
          "name": "stdout",
          "text": [
            "Note: the last rows are the information for Intercept\n",
            "## -------------------------------------------------\n",
            "##  Estimate | Std.Error | t Values | P-value\n",
            "##  -0.087120   0.037097   -2.348   0.019386\n",
            "##   0.048620   0.015775    3.082   0.002212\n",
            "##  -0.057594   0.065561   -0.878   0.380260\n",
            "##   2.571371   0.962102    2.673   0.007864\n",
            "## -17.023148   4.254187   -4.002   0.000076\n",
            "##   3.910918   0.454857    8.598   0.000000\n",
            "##  -0.007574   0.014085   -0.538   0.591104\n",
            "##  -1.528048   0.214091   -7.137   0.000000\n",
            "##   0.255866   0.070569    3.626   0.000329\n",
            "##  -0.011408   0.004040   -2.824   0.005006\n",
            "##  -0.923538   0.143775   -6.423   0.000000\n",
            "##   0.009222   0.002864    3.220   0.001397\n",
            "##  -0.433746   0.055517   -7.813   0.000000\n",
            "##  35.375519   5.575200    6.345   0.000000\n",
            "## ---\n",
            "## Mean squared error:  19.846603 ,   RMSE:  4.454953\n",
            "## Multiple R-squared: 0.754471 ,   Total iterations: 1\n"
          ]
        }
      ]
    },
    {
      "cell_type": "code",
      "source": [
        "from pyspark.ml.evaluation import RegressionEvaluator\n",
        "eval_lr = RegressionEvaluator(labelCol=\"medv\", predictionCol=\"prediction\", metricName=\"rmse\")\n",
        "\n",
        "print(\"Linear regression model\\n\")\n",
        "\n",
        "# Root Mean Square Error\n",
        "rmse = eval_lr.evaluate(Pred_lr.predictions)\n",
        "print(\"RMSE: %.3f\" % rmse)\n",
        "\n",
        "# Mean Square Error\n",
        "mse = eval_lr.evaluate(Pred_lr.predictions, {eval_lr.metricName: \"mse\"})\n",
        "print(\"MSE: %.3f\" % mse)\n",
        "\n",
        "# Mean Absolute Error\n",
        "mae = eval_lr.evaluate(Pred_lr.predictions, {eval_lr.metricName: \"mae\"})\n",
        "print(\"MAE: %.3f\" % mae)\n",
        "\n",
        "# r2 - coefficient of determination\n",
        "r2 = eval_lr.evaluate(Pred_lr.predictions, {eval_lr.metricName: \"r2\"})\n",
        "print(\"r2: %.3f\" %r2)"
      ],
      "metadata": {
        "colab": {
          "base_uri": "https://localhost:8080/"
        },
        "id": "r-f4OZq4o7VO",
        "outputId": "adf5db26-43af-48a5-bc9c-24dd8226bdc2"
      },
      "execution_count": 16,
      "outputs": [
        {
          "output_type": "stream",
          "name": "stdout",
          "text": [
            "Linear regression model\n",
            "\n",
            "RMSE: 5.410\n",
            "MSE: 29.270\n",
            "MAE: 3.382\n",
            "r2: 0.692\n"
          ]
        }
      ]
    },
    {
      "cell_type": "code",
      "source": [
        "eval_rfr = RegressionEvaluator(labelCol=\"medv\", predictionCol=\"prediction\", metricName=\"rmse\")\n",
        "print(\"Regression Forrest model\\n\")\n",
        "\n",
        "# Root Mean Square Error\n",
        "rmse = eval_rfr.evaluate(pred_rfr)\n",
        "print(\"RMSE: %.3f\" % rmse)\n",
        "\n",
        "# Mean Square Error\n",
        "mse = eval_rfr.evaluate(pred_rfr, {eval_rfr.metricName: \"mse\"})\n",
        "print(\"MSE: %.3f\" % mse)\n",
        "\n",
        "# Mean Absolute Error\n",
        "mae = eval_rfr.evaluate(pred_rfr, {eval_rfr.metricName: \"mae\"})\n",
        "print(\"MAE: %.3f\" % mae)\n",
        "\n",
        "# r2 - coefficient of determination\n",
        "r2 = eval_rfr.evaluate(pred_rfr, {eval_rfr.metricName: \"r2\"})\n",
        "print(\"r2: %.3f\" %r2)"
      ],
      "metadata": {
        "colab": {
          "base_uri": "https://localhost:8080/"
        },
        "id": "SLKIR6cIpLGZ",
        "outputId": "8f9f52e5-9c35-4200-947c-5a3773dd6c13"
      },
      "execution_count": 17,
      "outputs": [
        {
          "output_type": "stream",
          "name": "stdout",
          "text": [
            "Regression Forrest model\n",
            "\n",
            "RMSE: 4.708\n",
            "MSE: 22.166\n",
            "MAE: 2.836\n",
            "r2: 0.767\n"
          ]
        }
      ]
    },
    {
      "cell_type": "code",
      "source": [
        "eval_gbt = RegressionEvaluator(labelCol=\"medv\", predictionCol=\"prediction\",\n",
        "metricName=\"rmse\")\n",
        "print(\"Gradient Boot Tree model\\n\")\n",
        "\n",
        "# Root Mean Square Error\n",
        "rmse = eval_gbt.evaluate(pred_gbt)\n",
        "print(\"RMSE: %.3f\" % rmse)\n",
        "\n",
        "# Mean Square Error\n",
        "mse = eval_gbt.evaluate(pred_gbt, {eval_gbt.metricName: \"mse\"})\n",
        "print(\"MSE: %.3f\" % mse)\n",
        "\n",
        "# Mean Absolute Error\n",
        "mae = eval_gbt.evaluate(pred_gbt, {eval_gbt.metricName: \"mae\"})\n",
        "print(\"MAE: %.3f\" % mae)\n",
        "\n",
        "# r2 - coefficient of determination\n",
        "r2 = eval_gbt.evaluate(pred_gbt, {eval_gbt.metricName: \"r2\"})\n",
        "print(\"r2: %.3f\" %r2)"
      ],
      "metadata": {
        "colab": {
          "base_uri": "https://localhost:8080/"
        },
        "id": "QMk_Bxtypxzi",
        "outputId": "cd32e5cf-53fa-4258-8c20-8241dd817222"
      },
      "execution_count": 18,
      "outputs": [
        {
          "output_type": "stream",
          "name": "stdout",
          "text": [
            "Gradient Boot Tree model\n",
            "\n",
            "RMSE: 4.882\n",
            "MSE: 23.832\n",
            "MAE: 3.051\n",
            "r2: 0.749\n"
          ]
        }
      ]
    }
  ]
}