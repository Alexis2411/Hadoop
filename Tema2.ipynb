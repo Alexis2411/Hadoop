{
  "nbformat": 4,
  "nbformat_minor": 0,
  "metadata": {
    "colab": {
      "name": "Tema2.ipynb",
      "provenance": [],
      "collapsed_sections": [],
      "include_colab_link": true
    },
    "kernelspec": {
      "name": "python3",
      "display_name": "Python 3"
    },
    "language_info": {
      "name": "python"
    }
  },
  "cells": [
    {
      "cell_type": "markdown",
      "metadata": {
        "id": "view-in-github",
        "colab_type": "text"
      },
      "source": [
        "<a href=\"https://colab.research.google.com/github/Alexis2411/Hadoop/blob/main/Tema2.ipynb\" target=\"_parent\"><img src=\"https://colab.research.google.com/assets/colab-badge.svg\" alt=\"Open In Colab\"/></a>"
      ]
    },
    {
      "cell_type": "code",
      "source": [
        "!apt-get install openjdk-8-jdk-headless -qq > /dev/null\n",
        "!wget -q https://downloads.apache.org/spark/spark-2.4.8/spark-2.4.8-bin-hadoop2.7.tgz\n",
        "!tar xf spark-2.4.8-bin-hadoop2.7.tgz\n",
        "!pip install -q findspark"
      ],
      "metadata": {
        "id": "rJDir_Q7inw3"
      },
      "execution_count": 1,
      "outputs": []
    },
    {
      "cell_type": "code",
      "source": [
        "#All imports\n",
        "import os\n",
        "os.environ[\"JAVA_HOME\"] = \"/usr/lib/jvm/java-8-openjdk-amd64\"\n",
        "os.environ[\"SPARK_HOME\"] = \"/content/spark-2.4.8-bin-hadoop2.7\""
      ],
      "metadata": {
        "id": "rtFkUh-xis6h"
      },
      "execution_count": 2,
      "outputs": []
    },
    {
      "cell_type": "code",
      "source": [
        "!java --version"
      ],
      "metadata": {
        "colab": {
          "base_uri": "https://localhost:8080/"
        },
        "id": "0W2A2cbfizXX",
        "outputId": "84a665a0-7bea-4965-ba04-c48542fe7e0e"
      },
      "execution_count": 3,
      "outputs": [
        {
          "output_type": "stream",
          "name": "stdout",
          "text": [
            "openjdk 11.0.15 2022-04-19\n",
            "OpenJDK Runtime Environment (build 11.0.15+10-Ubuntu-0ubuntu0.18.04.1)\n",
            "OpenJDK 64-Bit Server VM (build 11.0.15+10-Ubuntu-0ubuntu0.18.04.1, mixed mode, sharing)\n"
          ]
        }
      ]
    },
    {
      "cell_type": "code",
      "source": [
        "!echo $JAVA_HOME"
      ],
      "metadata": {
        "colab": {
          "base_uri": "https://localhost:8080/"
        },
        "id": "GI0qKPEai1tw",
        "outputId": "b076e876-0346-49c7-9d5b-1071c38ef132"
      },
      "execution_count": 4,
      "outputs": [
        {
          "output_type": "stream",
          "name": "stdout",
          "text": [
            "/usr/lib/jvm/java-8-openjdk-amd64\n"
          ]
        }
      ]
    },
    {
      "cell_type": "code",
      "source": [
        "!echo $SPARK_HOME"
      ],
      "metadata": {
        "colab": {
          "base_uri": "https://localhost:8080/"
        },
        "id": "CBZEFgUdi5sU",
        "outputId": "3a645e70-1b16-45ad-894a-99a21b672ef4"
      },
      "execution_count": 5,
      "outputs": [
        {
          "output_type": "stream",
          "name": "stdout",
          "text": [
            "/content/spark-2.4.8-bin-hadoop2.7\n"
          ]
        }
      ]
    },
    {
      "cell_type": "code",
      "source": [
        "import findspark\n",
        "findspark.init()\n",
        "from google.colab import files\n",
        "from pyspark import SparkContext, SparkConf,SQLContext,HiveContext\n",
        "from pyspark.sql import SparkSession\n",
        "from pyspark.sql.functions import isnan, when, count, col, lit\n",
        "import pandas as pd \n",
        "import numpy as np\n",
        "import matplotlib.pyplot as plt "
      ],
      "metadata": {
        "id": "irfB_Xk6i83U"
      },
      "execution_count": 6,
      "outputs": []
    },
    {
      "cell_type": "code",
      "source": [
        "# create SparkSession\n",
        "spark = SparkSession \\\n",
        "    .builder \\\n",
        "    .getOrCreate()"
      ],
      "metadata": {
        "id": "A11J_DE9jEGF"
      },
      "execution_count": 7,
      "outputs": []
    },
    {
      "cell_type": "code",
      "source": [
        "spark.version"
      ],
      "metadata": {
        "colab": {
          "base_uri": "https://localhost:8080/",
          "height": 35
        },
        "id": "tIWf3-77jIcC",
        "outputId": "68cf6f6b-cde1-466b-dd20-63f7c4dae0c0"
      },
      "execution_count": 8,
      "outputs": [
        {
          "output_type": "execute_result",
          "data": {
            "text/plain": [
              "'2.4.8'"
            ],
            "application/vnd.google.colaboratory.intrinsic+json": {
              "type": "string"
            }
          },
          "metadata": {},
          "execution_count": 8
        }
      ]
    },
    {
      "cell_type": "code",
      "source": [
        "sc = spark.sparkContext"
      ],
      "metadata": {
        "id": "Xul3O1DBjLrA"
      },
      "execution_count": 9,
      "outputs": []
    },
    {
      "cell_type": "code",
      "source": [
        "sc.version"
      ],
      "metadata": {
        "colab": {
          "base_uri": "https://localhost:8080/",
          "height": 35
        },
        "id": "UG9xMb7WjO7Y",
        "outputId": "9f3bcfca-cf24-483e-fe04-276714be8412"
      },
      "execution_count": 10,
      "outputs": [
        {
          "output_type": "execute_result",
          "data": {
            "text/plain": [
              "'2.4.8'"
            ],
            "application/vnd.google.colaboratory.intrinsic+json": {
              "type": "string"
            }
          },
          "metadata": {},
          "execution_count": 10
        }
      ]
    },
    {
      "cell_type": "code",
      "source": [
        "sqlContext = SQLContext(sc)"
      ],
      "metadata": {
        "id": "kwT7RVf0jRWq"
      },
      "execution_count": 11,
      "outputs": []
    },
    {
      "cell_type": "code",
      "execution_count": 12,
      "metadata": {
        "colab": {
          "base_uri": "https://localhost:8080/"
        },
        "id": "E_ezYOCkiD_s",
        "outputId": "d04a92da-265f-4ebf-ab46-8c4cbc83909f"
      },
      "outputs": [
        {
          "output_type": "execute_result",
          "data": {
            "text/plain": [
              "[0, 1, 2, 3, 4, 5, 6, 7, 8, 9]"
            ]
          },
          "metadata": {},
          "execution_count": 12
        }
      ],
      "source": [
        "#Crear RDD\n",
        "rdd = sc.parallelize(range(0, 10))\n",
        "rdd.take(10)"
      ]
    },
    {
      "cell_type": "code",
      "source": [
        "rdd.takeSample(True, 20, 1)"
      ],
      "metadata": {
        "colab": {
          "base_uri": "https://localhost:8080/"
        },
        "id": "Gj_TFJGAjVSp",
        "outputId": "2430071f-f28a-4c20-ca4a-33a48e31d7b9"
      },
      "execution_count": 13,
      "outputs": [
        {
          "output_type": "execute_result",
          "data": {
            "text/plain": [
              "[0, 6, 3, 4, 3, 1, 3, 7, 3, 5, 3, 0, 0, 9, 6, 5, 7, 9, 4, 7]"
            ]
          },
          "metadata": {},
          "execution_count": 13
        }
      ]
    },
    {
      "cell_type": "code",
      "source": [
        "rdd.takeSample(False, 5, 2)"
      ],
      "metadata": {
        "colab": {
          "base_uri": "https://localhost:8080/"
        },
        "id": "xydbCskHjcJG",
        "outputId": "5cbf6123-80a6-4cf1-f8d5-8f55f19dedff"
      },
      "execution_count": 14,
      "outputs": [
        {
          "output_type": "execute_result",
          "data": {
            "text/plain": [
              "[5, 9, 3, 4, 6]"
            ]
          },
          "metadata": {},
          "execution_count": 14
        }
      ]
    },
    {
      "cell_type": "code",
      "source": [
        "rdd.takeSample(False, 15, 3)"
      ],
      "metadata": {
        "colab": {
          "base_uri": "https://localhost:8080/"
        },
        "id": "idXoOSZujgjx",
        "outputId": "bd81488d-6aff-4432-a632-dcab4c96c480"
      },
      "execution_count": 15,
      "outputs": [
        {
          "output_type": "execute_result",
          "data": {
            "text/plain": [
              "[1, 5, 6, 0, 9, 4, 7, 2, 8, 3]"
            ]
          },
          "metadata": {},
          "execution_count": 15
        }
      ]
    },
    {
      "cell_type": "code",
      "source": [
        "rdd.sample(False, 0.5).take(5)"
      ],
      "metadata": {
        "colab": {
          "base_uri": "https://localhost:8080/"
        },
        "id": "Uu3j37-ijjPr",
        "outputId": "1113413d-7cb5-4623-b6d4-d312cb641318"
      },
      "execution_count": 16,
      "outputs": [
        {
          "output_type": "execute_result",
          "data": {
            "text/plain": [
              "[1, 4, 6, 7]"
            ]
          },
          "metadata": {},
          "execution_count": 16
        }
      ]
    },
    {
      "cell_type": "code",
      "source": [
        "rdd.sample(False, 0.5).take(5)"
      ],
      "metadata": {
        "colab": {
          "base_uri": "https://localhost:8080/"
        },
        "id": "Dr8htFrvjm-R",
        "outputId": "9251134a-7b10-48cb-b7f2-94c205ffdc8e"
      },
      "execution_count": 17,
      "outputs": [
        {
          "output_type": "execute_result",
          "data": {
            "text/plain": [
              "[0, 2, 4, 5, 9]"
            ]
          },
          "metadata": {},
          "execution_count": 17
        }
      ]
    },
    {
      "cell_type": "code",
      "source": [
        "rdd.sample(False, 0.5).take(5)"
      ],
      "metadata": {
        "colab": {
          "base_uri": "https://localhost:8080/"
        },
        "id": "9vtOXKNsjpee",
        "outputId": "a127f6c7-faee-4134-cfbb-0dab25827626"
      },
      "execution_count": 18,
      "outputs": [
        {
          "output_type": "execute_result",
          "data": {
            "text/plain": [
              "[2, 5, 7, 8, 9]"
            ]
          },
          "metadata": {},
          "execution_count": 18
        }
      ]
    },
    {
      "cell_type": "code",
      "source": [
        "df = spark.range(10)\n",
        "df.show()"
      ],
      "metadata": {
        "colab": {
          "base_uri": "https://localhost:8080/"
        },
        "id": "SKdO8oLljt3o",
        "outputId": "ba040afa-8256-4fa8-c44b-f5da5e748ae2"
      },
      "execution_count": 19,
      "outputs": [
        {
          "output_type": "stream",
          "name": "stdout",
          "text": [
            "+---+\n",
            "| id|\n",
            "+---+\n",
            "|  0|\n",
            "|  1|\n",
            "|  2|\n",
            "|  3|\n",
            "|  4|\n",
            "|  5|\n",
            "|  6|\n",
            "|  7|\n",
            "|  8|\n",
            "|  9|\n",
            "+---+\n",
            "\n"
          ]
        }
      ]
    },
    {
      "cell_type": "code",
      "source": [
        "df.sample(withReplacement=False, fraction=0.5, seed=1).show()"
      ],
      "metadata": {
        "colab": {
          "base_uri": "https://localhost:8080/"
        },
        "id": "Hn8rFTN0jx-i",
        "outputId": "38eb7d83-a16c-4f0c-e9cf-7e7e446dc582"
      },
      "execution_count": 20,
      "outputs": [
        {
          "output_type": "stream",
          "name": "stdout",
          "text": [
            "+---+\n",
            "| id|\n",
            "+---+\n",
            "|  0|\n",
            "|  2|\n",
            "|  3|\n",
            "|  5|\n",
            "|  6|\n",
            "|  7|\n",
            "|  8|\n",
            "|  9|\n",
            "+---+\n",
            "\n"
          ]
        }
      ]
    },
    {
      "cell_type": "code",
      "source": [
        "df.sample(withReplacement=True, fraction=0.5, seed=1).show()"
      ],
      "metadata": {
        "colab": {
          "base_uri": "https://localhost:8080/"
        },
        "id": "9h_M2ghqjzVz",
        "outputId": "79eadadc-88a7-48b1-8cf1-717e27a42f0d"
      },
      "execution_count": 21,
      "outputs": [
        {
          "output_type": "stream",
          "name": "stdout",
          "text": [
            "+---+\n",
            "| id|\n",
            "+---+\n",
            "|  0|\n",
            "|  2|\n",
            "|  3|\n",
            "|  4|\n",
            "+---+\n",
            "\n"
          ]
        }
      ]
    },
    {
      "cell_type": "code",
      "source": [
        "df.sample(withReplacement=False, fraction=0.5, seed=2).show()"
      ],
      "metadata": {
        "colab": {
          "base_uri": "https://localhost:8080/"
        },
        "id": "1IM34NCQkB6e",
        "outputId": "1eefc050-1fde-4305-c35b-da6149bb6f5c"
      },
      "execution_count": 22,
      "outputs": [
        {
          "output_type": "stream",
          "name": "stdout",
          "text": [
            "+---+\n",
            "| id|\n",
            "+---+\n",
            "|  0|\n",
            "|  1|\n",
            "|  2|\n",
            "|  3|\n",
            "|  4|\n",
            "|  5|\n",
            "|  7|\n",
            "+---+\n",
            "\n"
          ]
        }
      ]
    },
    {
      "cell_type": "code",
      "source": [
        "df.sample(withReplacement=False, fraction=0.5, seed=3).show()"
      ],
      "metadata": {
        "colab": {
          "base_uri": "https://localhost:8080/"
        },
        "id": "lusSu7NokE0Y",
        "outputId": "0e604b77-05d7-44a8-f015-7cd57d4173c0"
      },
      "execution_count": 23,
      "outputs": [
        {
          "output_type": "stream",
          "name": "stdout",
          "text": [
            "+---+\n",
            "| id|\n",
            "+---+\n",
            "|  0|\n",
            "|  2|\n",
            "|  9|\n",
            "+---+\n",
            "\n"
          ]
        }
      ]
    },
    {
      "cell_type": "code",
      "source": [
        "path_csv=\"/content/daily_weather.csv\"\n",
        "df = sqlContext.read.csv(path_csv,header=True,inferSchema=True)\n",
        "df.show(10)"
      ],
      "metadata": {
        "colab": {
          "base_uri": "https://localhost:8080/"
        },
        "id": "G1WG_Z9akKLL",
        "outputId": "ba7dc713-3caa-48ef-e068-763d3f3b63c7"
      },
      "execution_count": 25,
      "outputs": [
        {
          "output_type": "stream",
          "name": "stdout",
          "text": [
            "+------+-----------------+------------------+----------------------+------------------+----------------------+------------------+---------------------+-----------------+---------------------+---------------------+\n",
            "|number| air_pressure_9am|      air_temp_9am|avg_wind_direction_9am|avg_wind_speed_9am|max_wind_direction_9am|max_wind_speed_9am|rain_accumulation_9am|rain_duration_9am|relative_humidity_9am|relative_humidity_3pm|\n",
            "+------+-----------------+------------------+----------------------+------------------+----------------------+------------------+---------------------+-----------------+---------------------+---------------------+\n",
            "|     0|918.0600000000087| 74.82200000000041|                 271.1| 2.080354199999768|    295.39999999999986| 2.863283199999908|                  0.0|              0.0|    42.42000000000046|   36.160000000000494|\n",
            "|     1|917.3476881177097| 71.40384263106537|    101.93517935618371|2.4430092157340217|    140.47154847112498|3.5333236016106238|                  0.0|              0.0|   24.328697291802207|     19.4265967985621|\n",
            "|     2|923.0400000000084|60.637999999998776|    51.000000000000036|17.067852199999727|      63.6999999999999|22.100967200000003|                  0.0|             20.0|    8.900000000000047|   14.460000000000045|\n",
            "|     3|920.5027511759195| 70.13889486830053|    198.83213271746368| 4.337363056162703|    211.20334124325618| 5.190045360219378|                  0.0|              0.0|   12.189101868764444|   12.742547353761848|\n",
            "|     4|921.1600000000036| 44.29400000000284|                 277.8|1.8566601999998955|    136.49999999999991| 2.863283199999954|    8.899999999998613|          14730.0|    92.41000000000044|    76.74000000000046|\n",
            "|     5| 915.300000000006| 78.40400000000422|                 182.8|  9.93201359999979|    188.99999999999986|10.983375399999995|  0.02000000000043656|            170.0|   35.130000000000265|   33.930000000000256|\n",
            "|     6|915.5988675132801| 70.04330431686239|    177.87540718659943|3.7455865377244795|    186.60669587586753| 4.589632428699432|                  0.0|              0.0|   10.657421657822635|   21.385656725200974|\n",
            "|     7|918.0700000000023|51.710000000002346|                 242.4| 2.527742199999939|     271.5999999999999|3.6462121999999924|                  0.0|              0.0|    80.47000000000041|    74.92000000000041|\n",
            "|     8| 920.080000000006| 80.58200000000384|                  40.7| 4.518618799999764|     62.99999999999986| 5.883152199999977|                  0.0|              0.0|    29.58000000000045|   24.030000000000427|\n",
            "|     9|915.0100000000116|  47.4979999999998|    163.10000000000005| 4.943637399999545|    195.89999999999992| 6.576603599999951|                  0.0|              0.0|     88.6000000000012|     68.0500000000012|\n",
            "+------+-----------------+------------------+----------------------+------------------+----------------------+------------------+---------------------+-----------------+---------------------+---------------------+\n",
            "only showing top 10 rows\n",
            "\n"
          ]
        }
      ]
    },
    {
      "cell_type": "code",
      "source": [
        "df_air_temp_9am=df.select(\"air_temp_9am\")\n",
        "df_air_temp_9am=df_air_temp_9am.na.drop()"
      ],
      "metadata": {
        "id": "ghVDHT4vkReH"
      },
      "execution_count": 26,
      "outputs": []
    },
    {
      "cell_type": "code",
      "source": [
        "df_air_temp_9am=df_air_temp_9am.rdd.map(lambda row : row.air_temp_9am)\n",
        "arr_air_temp_9am=df_air_temp_9am.collect()\n",
        "df_air_temp_9am.take(10)"
      ],
      "metadata": {
        "colab": {
          "base_uri": "https://localhost:8080/"
        },
        "id": "NHBUrVyVkW_9",
        "outputId": "e22c5384-0cd8-4c72-9b58-b13cc45c7296"
      },
      "execution_count": 27,
      "outputs": [
        {
          "output_type": "execute_result",
          "data": {
            "text/plain": [
              "[74.82200000000041,\n",
              " 71.40384263106537,\n",
              " 60.637999999998776,\n",
              " 70.13889486830053,\n",
              " 44.29400000000284,\n",
              " 78.40400000000422,\n",
              " 70.04330431686239,\n",
              " 51.710000000002346,\n",
              " 80.58200000000384,\n",
              " 47.4979999999998]"
            ]
          },
          "metadata": {},
          "execution_count": 27
        }
      ]
    },
    {
      "cell_type": "code",
      "source": [
        "import matplotlib.pyplot as plt\n",
        "plt.boxplot(arr_air_temp_9am,1,\"rs\",0)\n",
        "\n",
        "#normal\n",
        "#plt.boxplot(arr_air_temp_9am)\n",
        "#con cintura=1, sin cintura=0\n",
        "#plt.boxplot(arr_air_temp_9am,1)\n",
        "#cambiar los puntos extremos a “green diamonds”\n",
        "#plt.boxplot(arr_air_temp_9am,1,\"gD\")\n",
        "#horizontal=0, vertical=1\n",
        "plt.show()"
      ],
      "metadata": {
        "colab": {
          "base_uri": "https://localhost:8080/",
          "height": 265
        },
        "id": "gDbggEaHkckk",
        "outputId": "88ffc040-3287-4e79-88a6-79100c0e59d3"
      },
      "execution_count": 28,
      "outputs": [
        {
          "output_type": "display_data",
          "data": {
            "text/plain": [
              "<Figure size 432x288 with 1 Axes>"
            ],
            "image/png": "[encoded data removed]"
          },
          "metadata": {
            "needs_background": "light"
          }
        }
      ]
    },
    {
      "cell_type": "code",
      "source": [
        "import plotly.express as px\n",
        "fig = px.histogram(x=arr_air_temp_9am,labels={'x':'air temp 9am', 'y':'Frecuencia'})\n",
        "#fig = px.histogram(arr_air_temp_9am,nbins = 10)\n",
        "fig.show()"
      ],
      "metadata": {
        "colab": {
          "base_uri": "https://localhost:8080/",
          "height": 542
        },
        "id": "RxPMpCQSkh7C",
        "outputId": "c6de56a4-59b1-40b1-aabb-3e46beaa3dcc"
      },
      "execution_count": 29,
      "outputs": [
        {
          "output_type": "display_data",
          "data": {
            "text/html": [
              "<html>\n",
              "<head><meta charset=\"utf-8\" /></head>\n",
              "<body>\n",
              "    <div>            <script src=\"https://cdnjs.cloudflare.com/ajax/libs/mathjax/2.7.5/MathJax.js?config=TeX-AMS-MML_SVG\"></script><script type=\"text/javascript\">if (window.MathJax) {MathJax.Hub.Config({SVG: {font: \"STIX-Web\"}});}</script>                <script type=\"text/javascript\">window.PlotlyConfig = {MathJaxConfig: 'local'};</script>\n",
              "        <script src=\"https://cdn.plot.ly/plotly-2.8.3.min.js\"></script>                <div id=\"59aecad0-5d4b-4a69-b54b-95ddd956cac2\" class=\"plotly-graph-div\" style=\"height:525px; width:100%;\"></div>            <script type=\"text/javascript\">                                    window.PLOTLYENV=window.PLOTLYENV || {};                                    if (document.getElementById(\"59aecad0-5d4b-4a69-b54b-95ddd956cac2\")) {                    Plotly.newPlot(                        \"59aecad0-5d4b-4a69-b54b-95ddd956cac2\",                        [{\"alignmentgroup\":\"True\",\"bingroup\":\"x\",\"hovertemplate\":\"air temp 9am=%{x}<br>count=%{y}<extra></extra>\",\"legendgroup\":\"\",\"marker\":{\"color\":\"#636efa\",\"pattern\":{\"shape\":\"\"}},\"name\":\"\",\"offsetgroup\":\"\",\"orientation\":\"v\",\"showlegend\":false,\"x\":[74.82200000000041,71.40384263106537,60.637999999998776,70.13889486830053,44.29400000000284,78.40400000000422,70.04330431686239,51.710000000002346,80.58200000000384,47.4979999999998,77.0360000000015,45.71599999999757,49.78399999999978,62.43799999999798,86.43199999999833,70.86526349026626,77.01896058080769,67.08200000000228,68.5759999999986,62.96438311633252,67.67600000000394,68.81877189441205,47.5700000000002,71.659572209907,50.66600000000506,49.892000000005595,78.61999999999912,40.11800000000114,45.42800000000261,91.11200000000454,55.543999999998206,76.2260000000045,63.91400000000245,59.8820000000033,85.08199999999835,53.99599999999862,64.16600000000042,50.36000000000324,60.95534152642568,64.22000000000406,68.66600000000494,49.55000000000121,64.6880000000009,68.88200000000384,67.6580000000016,65.66000000000018,87.18800000000493,67.3159999999995,69.0310704187739,65.87599999999853,76.98200000000416,74.3359999999992,68.92146556437449,70.33053242544793,45.014000000005645,45.625999999999934,66.99200000000369,76.76600000000472,61.304000000002326,73.77799999999931,46.65200000000421,61.988000000004895,53.258000000000884,78.31400000000238,83.22799999999852,61.7540000000012,66.35298837155821,69.36800000000208,57.03648251000908,82.06433413137862,57.133499123781064,74.5153762714524,54.572000000000564,53.978000000000016,53.49199999999852,76.74220081626338,38.13800000000076,68.25199999999936,61.34000000000051,65.44400000000459,58.29799999999886,49.55000000000146,43.86200000000369,63.823999999998605,50.28800000000058,85.6616297571622,76.0820000000022,69.38887310672962,68.16199999999914,72.89987777812291,83.8399999999994,74.08463941297433,47.97039461358988,79.3759999999983,54.89600000000348,68.0938479498513,43.16000000000035,51.63800000000417,46.67000000000071,77.55799999999846,78.47600000000413,61.51866010352275,54.53600000000218,68.72379994905282,73.86799999999945,47.20999999999799,69.68737310030092,74.19200000000113,62.5999999999994,47.521110164260094,58.81999999999918,62.65400000000062,53.74400000000002,47.1380000000033,75.23600000000191,69.16552064972275,79.2446779074122,65.98399999999816,51.17000000000011,76.17200000000254,75.0019999999995,74.7320000000046,62.743999999999275,79.62800000000041,70.34564732903388,75.03800000000402,57.18647316305238,88.84400000000223,68.45261062961566,76.92800000000463,66.86600000000418,71.72600000000061,70.25000000000372,57.8102370614035,48.41600000000483,65.8972904472465,72.75199999999975,64.81400000000556,64.61826921969218,75.4160000000002,50.00212297211128,71.20382277880073,57.30800000000041,68.64800000000155,73.68800000000219,61.12808283319668,76.42400000000026,57.955999999999534,66.92000000000488,56.53274375441206,53.50999999999836,79.9519999999998,56.048000000000755,53.5640000000033,50.054000000005146,66.06856811250812,75.25061052837768,55.454000000004996,56.53400000000529,73.19115621662769,47.65999999999785,70.7180000000022,86.23975056432893,64.88600000000068,59.81076305616098,60.3140000000022,65.21846162142307,81.45133348687179,46.92200000000013,56.96600000000338,78.94400000000255,74.78600000000458,55.96469777505008,58.40600000000219,84.23600000000526,56.69600000000226,60.925999999999,68.06004298547721,51.22399999999834,72.3560000000025,61.250000000001094,84.28745579090338,84.36200000000544,77.08370529858605,71.04199999999976,56.863974057078735,69.36799999999698,55.562000000001156,57.50600000000437,47.24600000000324,42.620000000000175,66.00200000000035,48.73999999999903,73.16857812578625,47.80399999999829,75.43399999999795,60.27479795240991,60.81012419077917,49.68650272701934,66.09908715430353,50.66600000000296,62.51000000000219,41.360000000003524,84.2720000000047,74.8939999999986,59.324000000000495,63.17600000000577,64.00400000000464,79.10599999999816,75.05238781358126,58.60710230506315,45.28400000000439,78.66944499017539,45.48200000000371,60.692000000000256,40.62200000000391,48.61428416150457,60.53349648162408,70.92150084528194,74.2149877822087,68.8100000000023,79.46219997168937,40.46000000000029,79.50199999999955,63.57200000000032,66.77600000000449,65.5192357016942,72.64400000000205,56.281999999999634,76.87399999999998,70.32199999999972,62.870000000002186,69.31400000000244,70.55233655766956,42.4760000000014,71.09229020501127,62.932080539036725,57.398000000000344,49.9460000000049,62.40199999999851,75.22466242702326,55.52600000000096,63.96799999999825,65.20178968336316,40.83800000000016,74.3180000000044,45.391999999998724,59.09000000000197,74.93000000000221,68.22350764874004,68.61200000000248,72.72259406141411,73.4540000000004,71.29991157315442,68.63000000000036,80.31328745022648,65.16357022412929,74.57000000000242,89.40200000000375,84.5780000000033,58.380597854575164,73.21167025924065,70.28599999999982,68.37799999999811,64.45400000000433,63.085999999998904,59.54000000000097,60.43336922333173,63.1163285668902,64.36400000000572,45.73400000000227,49.37000000000511,50.31093889070403,68.61954067439231,85.71935990786132,62.60000000000128,78.51199999999956,86.34200000000483,68.95400000000538,49.98200000000367,74.2085841601973,49.5320000000042,56.99471668130287,75.40805734485363,82.6641642574292,51.097999999999026,48.25399999999728,52.75399999999671,64.34359080616623,51.83600000000153,81.45214955159197,77.02788349521576,75.93007449598923,72.24249064832873,49.08199999999866,73.61600000000234,48.74219853118266,43.86200000000357,77.9180000000051,57.217999999998675,61.57400000000021,51.080000000004084,63.60195396401935,56.426000000001345,72.82400000000182,78.3830144412864,69.22872652503719,84.1460000000003,44.0599999999972,85.54999999999839,89.7800000000054,76.53272584204488,67.50973313729398,63.266000000000254,48.05599999999846,63.37400000000071,54.284000000000276,78.20600000000228,58.7660000000021,53.60209408179969,54.70488429778611,44.72599999999717,71.3840000000022,79.17800000000048,62.76199999999872,58.49600000000442,62.02707784577527,68.22001132010102,61.988000000004746,73.50249594566593,74.67577296061759,52.21400000000478,75.7400000000047,39.01999999999968,45.31999999999972,63.51800000000335,42.512000000004505,72.96800000000458,81.3717456550001,76.62200000000222,46.11199999999881,47.85800000000391,79.17800000000449,81.95000000000417,66.69566729751674,58.90810931323834,43.646000000005294,60.636998458546984,45.89600000000479,59.953999999998494,66.47000000000054,68.2772227126346,67.8133014399465,81.91399999999952,58.46000000000453,61.05388861488341,58.51400000000235,68.21749493544222,62.59743171621365,65.8018453135668,71.11400000000431,69.31791272222196,65.371999999998,65.37200000000016,57.1639999999998,49.94600000000239,71.20520677788527,63.03200000000074,74.94800000000507,75.90200000000193,66.32600000000022,78.85400000000155,78.65687295829599,73.4418955237475,75.8438206680399,47.443999999998454,64.70600000000347,65.22799999999947,74.13799999999975,66.54199999999636,63.96800000000495,73.42994491349555,54.7905884936959,57.614000000000175,79.21400000000408,55.40000000000411,78.04400000000463,74.58800000000205,82.58315210842554,68.05400000000198,62.1140000000021,68.89438461233793,78.69746777674152,61.7881104612474,58.640000000003845,60.08000000000497,56.26400000000015,59.88200000000061,77.37667410979832,60.510215384615364,46.994000000004775,74.55200000000218,59.97199999999815,61.87999999999822,66.41599999999906,48.902000000000754,53.49200000000528,67.85383332605583,48.1819999999971,60.06418129210985,59.486000000003955,65.69599999999856,58.2980000000011,51.51200000000011,77.62439966843212,68.19483703100875,72.42799999999842,64.88600000000501,82.08455392635432,65.31799999999889,53.88800000000389,70.12400000000011,80.27600000000433,68.39986218870987,65.87600000000222,56.173999999998095,59.91800000000239,61.141999999998674,73.76724585346184,68.68930517949451,60.04400000000233,68.56876296971942,72.32000000000046,59.52882277399966,76.35200000000228,69.84222257073748,41.864000000000246,54.392000000005325,73.04000000000408,73.1480000000015,65.23695711208968,63.96799999999809,71.86255894863537,68.6617068374788,72.14000000000462,64.2371580326915,54.17600000000096,75.26468359989389,72.05570528724752,56.71400000000521,73.25469603247053,60.737766583624854,81.91400000000064,83.89400000000411,80.38400000000384,65.13799999999853,76.10327974914848,82.40000000000448,63.301999999998074,87.31400000000019,52.232000000001385,73.18400000000007,68.41400000000236,66.47000000000217,52.286000000000364,54.140000000000924,66.56000000000563,56.94799999999979,52.088000000001344,74.04800000000262,49.44199999999925,65.46200000000199,48.686000000004775,74.33019241903989,62.834000000002526,72.99481724604276,69.01193102847917,46.63400000000488,67.00316845804598,73.76000000000222,60.51200000000231,65.08400000000043,53.744000000001314,69.51200000000247,73.90399999999782,47.80400000000464,59.93227385576252,63.37400000000061,77.23399999999779,61.71375642904094,70.55599999999872,45.35599999999999,70.28600000000482,65.82200000000037,64.09209943587784,47.048000000003455,68.27000000000055,79.86199999999978,58.20800000000478,58.733243092918954,39.52400000000069,67.4327443006116,81.64400000000212,72.48003162597915,78.20600000000472,66.12800000000445,60.5120000000005,53.63588118481515,68.86400000000076,64.58000000000186,62.23999999999798,75.6139999999983,63.554000000004905,51.98000000000104,45.122000000005706,53.60000000000054,50.36000000000108,55.670000000000655,79.80800000000465,57.776000000004004,66.77042766076642,75.88228356230955,69.9260000000022,61.91600000000445,66.937999999999,57.39800000000012,66.05600000000359,57.63200000000471,78.87200000000233,49.71199999999934,40.10000000000114,76.55000000000467,53.114000000001234,44.329999999997156,59.71999999999876,76.02907552463105,59.3420000000047,59.60851580633838,60.849210669587585,59.68368862994506,68.74555102620387,62.870000000002186,60.43503429712115,54.82399999999946,42.746000000000016,64.18310634961433,79.91600000000203,69.16907875237322,73.21752187656296,42.692000000003894,75.76523686308754,62.1313874927262,73.70600000000334,57.524000000004065,61.21399999999874,73.02199999999822,69.53000000000148,66.73999999999843,62.26758355940379,80.79799999999841,72.55406499169483,57.39800000000555,55.51162423603436,54.139999999997364,64.17368535629576,48.037999999998576,69.81800000000213,64.8680000000013,50.71999999999946,83.00420473250027,69.85400000000477,56.994108340885354,64.47199999999951,68.89999999999779,66.63978421377365,69.34875006857136,69.47600000000124,70.61219231824708,62.5605117305458,67.60399999999804,72.35953393143345,41.48600000000511,68.21650831936142,79.75400000000502,62.959999999999496,67.53199999999796,64.16600000000179,76.96897212406137,60.31400000000066,59.072000000002134,79.76906270857705,72.77000000000423,77.50400000000009,59.2754787334636,44.708000000005704,75.56837539247823,57.200000000003776,72.39200000000191,86.93599999999859,83.13800000000404,69.77771706420214,57.54200000000202,47.0480000000014,66.0920000000041,53.07799999999934,76.28000000000114,69.65599999999795,71.87335583543259,47.942414040828226,48.362000000001686,63.984105326060295,39.956000000001005,72.40999999999698,53.559018294594026,75.50600000000425,74.40800000000408,59.34199999999826,74.30292525056294,56.78599999999822,74.8187079352237,47.57000000000362,58.87400000000126,56.57000000000175,50.77400000000021,64.11800000000231,64.63477580874674,62.990672472891596,55.09340486258315,66.02246656547246,75.92000000000421,75.21799999999841,53.96000000000455,64.49647734915405,61.855719799593714,36.752000000000685,49.802000000001144,69.73657833504198,69.16999999999865,55.760000000000666,56.48000000000439,49.10000000000071,76.74800000000047,53.31200000000381,52.55600000000464,59.88705018573941,74.938012503522,65.95033956838962,77.6721435325803,73.29200000000004,74.36171744816126,64.9400000000048,74.84000000000069,66.9740000000034,82.22000000000017,66.34400000000407,69.83600000000179,63.33495991644185,60.109241569859684,42.134000000005656,75.74000000000456,90.26600000000505,47.480000000000494,74.24599999999855,49.80200000000072,60.300907069277706,58.01000000000053,74.55199999999681,74.06660772220657,48.36200000000238,60.97999999999885,72.86377341332285,48.1819999999985,77.0532952188329,53.15492763028237,81.51024958998009,74.35871191509105,70.08800000000046,48.2719999999991,68.8100000000006,68.23400000000528,41.23400000000092,42.6920000000051,60.67400000000062,74.21000000000063,46.922000000001056,41.522000000003594,62.353513313224454,71.69000000000219,80.20400000000022,70.01599999999867,68.7379999999967,76.80200000000231,70.4660000000042,63.73400000000457,78.42200000000321,45.680000000003545,65.49800000000023,68.68782210389693,62.1319999999994,50.44999999999932,53.94200000000097,64.01853693095224,62.510000000004645,59.07200000000202,64.77799999999995,74.36302054034928,46.49000000000376,58.0851906925732,58.13599999999921,76.20799999999831,82.3999999999998,75.18941771667656,61.808000000000646,65.03000000000111,73.85313147835892,73.92200000000199,63.608000000002434,62.69000000000458,98.90599999999992,70.32199999999817,48.61116093069657,51.836000000000496,70.92035517127253,70.73600000000015,42.13400000000507,64.88420629532054,80.83583716223094,81.51800000000416,56.98687987536941,51.39184697294125,56.336000000000894,49.56800000000102,55.583586790071074,65.39000000000061,46.56199999999832,76.8046900910881,69.39881070605738,87.60199999999998,82.7419999999998,86.67660439028035,61.50199999999687,47.102000000003024,58.820000000001315,72.12200000000499,71.9060000000007,45.860000000004796,50.05400000000458,79.9879999999998,66.43582853979531,53.456000000000955,66.68754822600587,49.85600000000125,73.21899785836753,76.37283606779361,61.340000000004785,75.02000000000514,65.13800000000067,76.8740000000002,72.98237105891378,60.421240256239564,83.63697419687428,60.58399999999923,64.47200000000518,55.13000000000146,51.385999999999505,73.29200000000233,53.06000000000074,74.48397319983243,61.44800000000053,62.18403182249014,73.75343537150646,72.59000000000471,72.22999999999931,55.1660000000035,66.52878596266024,85.58599999999956,68.77400000000259,45.33799999999712,84.48799999999983,57.56000000000406,72.20937256466777,82.81400000000394,72.0140000000042,57.03800000000425,47.983999999996975,65.66748193627441,73.24971733631901,67.90605741841837,58.9459999999994,64.25058522100532,82.88599999999916,59.81000000000422,63.8584445820022,71.78000000000068,51.60200000000471,42.70311604796972,49.31599999999948,82.43600000000423,61.50200000000071,87.00799999999947,47.78600000000589,57.093129640299075,64.05799999999695,66.75800000000258,46.86799999999808,83.01199999999847,75.47000000000129,69.27799999999992,75.24016923267973,58.75454852928576,79.5380000000048,41.00000000000104,52.03400000000593,71.29400000000456,54.15816917595186,67.32501280533377,63.050000000001404,59.216000000000896,67.32097329289095,69.13400000000478,62.72080284002424,69.51200000000351,59.43200000000521,70.94586688286009,77.36000000000254,69.53207695608285,59.81000000000026,49.89200000000064,62.56449594770113,81.26600000000465,60.476000000004156,77.30113674726161,59.42855506792287,79.34000000000451,55.184000000003074,46.61599999999885,76.04600000000389,79.98800000000413,72.93199999999865,56.64583782273924,77.34951428519682,75.23599999999858,68.65897256510098,46.021999999998776,61.0160000000024,37.56200000000101,71.47359192617085,57.07364499017384,75.36562384160976,73.40000000000212,73.18399999999993,52.97000000000097,51.3550080272172,39.524000000000974,74.59301339262646,53.941999999997684,68.39534225647748,74.83131615280287,73.22148688978905,75.70030203530958,55.09399999999899,50.41400000000039,72.08517343957939,77.73800000000237,71.78000000000414,45.10400000000414,46.562000000000154,69.2960000000004,89.20400000000464,79.21400000000443,59.82800000000221,68.24414977294431,79.44800000000203,87.13618304623853,66.46657459067279,48.03800000000364,42.63799999999879,50.61200000000433,58.273014739341484,64.38200000000482,68.95399999999952,67.0640000000023,69.42200000000457,52.321999999999285,62.491999999999244,59.07781765998445,81.75199999999823,74.0299999999969,69.00800000000403,74.01465699478386,80.66103182500288,65.95111244177072,66.77600000000498,64.99400000000328,59.811801720571665,61.286000000002346,61.2496174315076,74.40354196840171,67.28122262242306,62.231039216646934,50.96480351798568,43.59200000000507,58.09476625098937,87.44000000000358,40.28000000000075,71.83114161637714,73.20199999999845,49.19000000000514,70.48400000000083,69.5479999999983,46.2380000000036,68.35999999999822,80.22937326268298,51.41195136479528,58.04600000000248,71.99600000000409,70.86005799308916,69.81576331696704,49.42399999999871,64.86800000000403,64.11199999999894,77.66600000000342,66.95311020559066,67.1180000000022,70.08800000000161,51.81800000000507,85.45999999999954,73.76000000000441,37.0400000000044,77.73800000000041,60.60200000000233,71.07800000000105,62.15000000000234,78.02312025759346,68.80559524322835,77.86399999999973,61.808000000004036,65.98399999999911,63.485522277386394,62.86999999999846,53.294000000000416,72.42800000000388,68.1943223203919,47.69599999999707,71.42000000000174,67.6580000000051,68.25382288107109,69.74583003618581,70.10600000000429,73.45400000000514,62.33000000000077,64.73442449542296,82.36399999999959,68.26999999999832,62.77940833058832,84.02000000000112,62.583025337212746,53.80033018193415,74.90201927567524,59.91799999999904,67.04600000000066,81.7833354681888,59.32400000000386,66.61972521016877,70.01600000000467,66.57096157045996,75.07399999999828,73.81400000000222,60.671663851367974,55.57999999999953,65.02999999999835,69.20600000000053,44.63600000000135,76.70823367429156,77.84600000000404,62.815791507164306,75.66404848184385,63.4640000000015,69.02818204076306,62.99600000000062,38.58800000000512,78.53000000000067,51.81799999999812,65.51600000000334,82.45400000000119,55.42180155273967,72.89100070400633,70.23498504469514,74.51600000000465,65.73495809770884,76.13600000000443,77.75600000000007,71.11400000000232,61.40668743490826,71.24000000000464,79.32200000000256,76.06409875788071,59.8194529132862,43.6820000000008,57.272000000000354,71.57442861020914,71.81600000000228,82.33491950907279,72.22044332563429,56.335999999999984,47.822000000000976,60.49399999999911,55.27400000000458,60.14793282340539,65.67800000000521,64.8139999999967,79.17799999999951,62.727070277656054,68.30599999999846,64.18400000000221,68.7891678500381,74.44400000000215,61.44972239769141,49.874000000004386,59.97200000000458,75.62894881660394,58.40599999999907,80.38399999999841,48.128000000005066,56.13799999999821,57.398000000004025,69.77352414977909,65.67799999999804,85.29200269373237,73.61600000000251,77.5759999999987,61.58215525160775,59.08935013519629,74.19603742252409,69.05672280595338,58.234519340991056,74.119999999998,63.48200000000554,55.274000000003646,60.601639811411786,68.19800000000555,73.70600000000438,51.296000000005286,62.36600000000452,71.31200000000422,82.66999999999986,71.63345647876707,61.791279325588604,79.51791003150488,80.98892224209385,60.96645400661299,72.82400000000482,63.986000000004594,74.83999999999858,59.0900000000021,78.33200000000203,64.14800225888986,76.22600000000237,65.79000090139179,79.73599999999936,69.5840000000023,73.7267315148411,64.99400000000027,68.86399999999999,82.22000000000013,46.346000000000295,70.24999999999895,75.5960000000034,84.65000000000404,66.93800000000249,64.98936079015147,50.918000000000795,73.29200000000472,68.37030689659376,65.26400000000413,79.7720000000021,69.8843380576341,50.10799999999837,48.308000000002146,80.24000000000005,47.354000000005435,52.646000000000896,66.64999999999851,71.87000000000026,55.04000000000046,63.104000000000674,49.567999999999316,71.09600000000553,58.406000000005385,77.7020000000024],\"xaxis\":\"x\",\"yaxis\":\"y\",\"type\":\"histogram\"}],                        {\"template\":{\"data\":{\"bar\":[{\"error_x\":{\"color\":\"#2a3f5f\"},\"error_y\":{\"color\":\"#2a3f5f\"},\"marker\":{\"line\":{\"color\":\"#E5ECF6\",\"width\":0.5},\"pattern\":{\"fillmode\":\"overlay\",\"size\":10,\"solidity\":0.2}},\"type\":\"bar\"}],\"barpolar\":[{\"marker\":{\"line\":{\"color\":\"#E5ECF6\",\"width\":0.5},\"pattern\":{\"fillmode\":\"overlay\",\"size\":10,\"solidity\":0.2}},\"type\":\"barpolar\"}],\"carpet\":[{\"aaxis\":{\"endlinecolor\":\"#2a3f5f\",\"gridcolor\":\"white\",\"linecolor\":\"white\",\"minorgridcolor\":\"white\",\"startlinecolor\":\"#2a3f5f\"},\"baxis\":{\"endlinecolor\":\"#2a3f5f\",\"gridcolor\":\"white\",\"linecolor\":\"white\",\"minorgridcolor\":\"white\",\"startlinecolor\":\"#2a3f5f\"},\"type\":\"carpet\"}],\"choropleth\":[{\"colorbar\":{\"outlinewidth\":0,\"ticks\":\"\"},\"type\":\"choropleth\"}],\"contour\":[{\"colorbar\":{\"outlinewidth\":0,\"ticks\":\"\"},\"colorscale\":[[0.0,\"#0d0887\"],[0.1111111111111111,\"#46039f\"],[0.2222222222222222,\"#7201a8\"],[0.3333333333333333,\"#9c179e\"],[0.4444444444444444,\"#bd3786\"],[0.5555555555555556,\"#d8576b\"],[0.6666666666666666,\"#ed7953\"],[0.7777777777777778,\"#fb9f3a\"],[0.8888888888888888,\"#fdca26\"],[1.0,\"#f0f921\"]],\"type\":\"contour\"}],\"contourcarpet\":[{\"colorbar\":{\"outlinewidth\":0,\"ticks\":\"\"},\"type\":\"contourcarpet\"}],\"heatmap\":[{\"colorbar\":{\"outlinewidth\":0,\"ticks\":\"\"},\"colorscale\":[[0.0,\"#0d0887\"],[0.1111111111111111,\"#46039f\"],[0.2222222222222222,\"#7201a8\"],[0.3333333333333333,\"#9c179e\"],[0.4444444444444444,\"#bd3786\"],[0.5555555555555556,\"#d8576b\"],[0.6666666666666666,\"#ed7953\"],[0.7777777777777778,\"#fb9f3a\"],[0.8888888888888888,\"#fdca26\"],[1.0,\"#f0f921\"]],\"type\":\"heatmap\"}],\"heatmapgl\":[{\"colorbar\":{\"outlinewidth\":0,\"ticks\":\"\"},\"colorscale\":[[0.0,\"#0d0887\"],[0.1111111111111111,\"#46039f\"],[0.2222222222222222,\"#7201a8\"],[0.3333333333333333,\"#9c179e\"],[0.4444444444444444,\"#bd3786\"],[0.5555555555555556,\"#d8576b\"],[0.6666666666666666,\"#ed7953\"],[0.7777777777777778,\"#fb9f3a\"],[0.8888888888888888,\"#fdca26\"],[1.0,\"#f0f921\"]],\"type\":\"heatmapgl\"}],\"histogram\":[{\"marker\":{\"pattern\":{\"fillmode\":\"overlay\",\"size\":10,\"solidity\":0.2}},\"type\":\"histogram\"}],\"histogram2d\":[{\"colorbar\":{\"outlinewidth\":0,\"ticks\":\"\"},\"colorscale\":[[0.0,\"#0d0887\"],[0.1111111111111111,\"#46039f\"],[0.2222222222222222,\"#7201a8\"],[0.3333333333333333,\"#9c179e\"],[0.4444444444444444,\"#bd3786\"],[0.5555555555555556,\"#d8576b\"],[0.6666666666666666,\"#ed7953\"],[0.7777777777777778,\"#fb9f3a\"],[0.8888888888888888,\"#fdca26\"],[1.0,\"#f0f921\"]],\"type\":\"histogram2d\"}],\"histogram2dcontour\":[{\"colorbar\":{\"outlinewidth\":0,\"ticks\":\"\"},\"colorscale\":[[0.0,\"#0d0887\"],[0.1111111111111111,\"#46039f\"],[0.2222222222222222,\"#7201a8\"],[0.3333333333333333,\"#9c179e\"],[0.4444444444444444,\"#bd3786\"],[0.5555555555555556,\"#d8576b\"],[0.6666666666666666,\"#ed7953\"],[0.7777777777777778,\"#fb9f3a\"],[0.8888888888888888,\"#fdca26\"],[1.0,\"#f0f921\"]],\"type\":\"histogram2dcontour\"}],\"mesh3d\":[{\"colorbar\":{\"outlinewidth\":0,\"ticks\":\"\"},\"type\":\"mesh3d\"}],\"parcoords\":[{\"line\":{\"colorbar\":{\"outlinewidth\":0,\"ticks\":\"\"}},\"type\":\"parcoords\"}],\"pie\":[{\"automargin\":true,\"type\":\"pie\"}],\"scatter\":[{\"marker\":{\"colorbar\":{\"outlinewidth\":0,\"ticks\":\"\"}},\"type\":\"scatter\"}],\"scatter3d\":[{\"line\":{\"colorbar\":{\"outlinewidth\":0,\"ticks\":\"\"}},\"marker\":{\"colorbar\":{\"outlinewidth\":0,\"ticks\":\"\"}},\"type\":\"scatter3d\"}],\"scattercarpet\":[{\"marker\":{\"colorbar\":{\"outlinewidth\":0,\"ticks\":\"\"}},\"type\":\"scattercarpet\"}],\"scattergeo\":[{\"marker\":{\"colorbar\":{\"outlinewidth\":0,\"ticks\":\"\"}},\"type\":\"scattergeo\"}],\"scattergl\":[{\"marker\":{\"colorbar\":{\"outlinewidth\":0,\"ticks\":\"\"}},\"type\":\"scattergl\"}],\"scattermapbox\":[{\"marker\":{\"colorbar\":{\"outlinewidth\":0,\"ticks\":\"\"}},\"type\":\"scattermapbox\"}],\"scatterpolar\":[{\"marker\":{\"colorbar\":{\"outlinewidth\":0,\"ticks\":\"\"}},\"type\":\"scatterpolar\"}],\"scatterpolargl\":[{\"marker\":{\"colorbar\":{\"outlinewidth\":0,\"ticks\":\"\"}},\"type\":\"scatterpolargl\"}],\"scatterternary\":[{\"marker\":{\"colorbar\":{\"outlinewidth\":0,\"ticks\":\"\"}},\"type\":\"scatterternary\"}],\"surface\":[{\"colorbar\":{\"outlinewidth\":0,\"ticks\":\"\"},\"colorscale\":[[0.0,\"#0d0887\"],[0.1111111111111111,\"#46039f\"],[0.2222222222222222,\"#7201a8\"],[0.3333333333333333,\"#9c179e\"],[0.4444444444444444,\"#bd3786\"],[0.5555555555555556,\"#d8576b\"],[0.6666666666666666,\"#ed7953\"],[0.7777777777777778,\"#fb9f3a\"],[0.8888888888888888,\"#fdca26\"],[1.0,\"#f0f921\"]],\"type\":\"surface\"}],\"table\":[{\"cells\":{\"fill\":{\"color\":\"#EBF0F8\"},\"line\":{\"color\":\"white\"}},\"header\":{\"fill\":{\"color\":\"#C8D4E3\"},\"line\":{\"color\":\"white\"}},\"type\":\"table\"}]},\"layout\":{\"annotationdefaults\":{\"arrowcolor\":\"#2a3f5f\",\"arrowhead\":0,\"arrowwidth\":1},\"autotypenumbers\":\"strict\",\"coloraxis\":{\"colorbar\":{\"outlinewidth\":0,\"ticks\":\"\"}},\"colorscale\":{\"diverging\":[[0,\"#8e0152\"],[0.1,\"#c51b7d\"],[0.2,\"#de77ae\"],[0.3,\"#f1b6da\"],[0.4,\"#fde0ef\"],[0.5,\"#f7f7f7\"],[0.6,\"#e6f5d0\"],[0.7,\"#b8e186\"],[0.8,\"#7fbc41\"],[0.9,\"#4d9221\"],[1,\"#276419\"]],\"sequential\":[[0.0,\"#0d0887\"],[0.1111111111111111,\"#46039f\"],[0.2222222222222222,\"#7201a8\"],[0.3333333333333333,\"#9c179e\"],[0.4444444444444444,\"#bd3786\"],[0.5555555555555556,\"#d8576b\"],[0.6666666666666666,\"#ed7953\"],[0.7777777777777778,\"#fb9f3a\"],[0.8888888888888888,\"#fdca26\"],[1.0,\"#f0f921\"]],\"sequentialminus\":[[0.0,\"#0d0887\"],[0.1111111111111111,\"#46039f\"],[0.2222222222222222,\"#7201a8\"],[0.3333333333333333,\"#9c179e\"],[0.4444444444444444,\"#bd3786\"],[0.5555555555555556,\"#d8576b\"],[0.6666666666666666,\"#ed7953\"],[0.7777777777777778,\"#fb9f3a\"],[0.8888888888888888,\"#fdca26\"],[1.0,\"#f0f921\"]]},\"colorway\":[\"#636efa\",\"#EF553B\",\"#00cc96\",\"#ab63fa\",\"#FFA15A\",\"#19d3f3\",\"#FF6692\",\"#B6E880\",\"#FF97FF\",\"#FECB52\"],\"font\":{\"color\":\"#2a3f5f\"},\"geo\":{\"bgcolor\":\"white\",\"lakecolor\":\"white\",\"landcolor\":\"#E5ECF6\",\"showlakes\":true,\"showland\":true,\"subunitcolor\":\"white\"},\"hoverlabel\":{\"align\":\"left\"},\"hovermode\":\"closest\",\"mapbox\":{\"style\":\"light\"},\"paper_bgcolor\":\"white\",\"plot_bgcolor\":\"#E5ECF6\",\"polar\":{\"angularaxis\":{\"gridcolor\":\"white\",\"linecolor\":\"white\",\"ticks\":\"\"},\"bgcolor\":\"#E5ECF6\",\"radialaxis\":{\"gridcolor\":\"white\",\"linecolor\":\"white\",\"ticks\":\"\"}},\"scene\":{\"xaxis\":{\"backgroundcolor\":\"#E5ECF6\",\"gridcolor\":\"white\",\"gridwidth\":2,\"linecolor\":\"white\",\"showbackground\":true,\"ticks\":\"\",\"zerolinecolor\":\"white\"},\"yaxis\":{\"backgroundcolor\":\"#E5ECF6\",\"gridcolor\":\"white\",\"gridwidth\":2,\"linecolor\":\"white\",\"showbackground\":true,\"ticks\":\"\",\"zerolinecolor\":\"white\"},\"zaxis\":{\"backgroundcolor\":\"#E5ECF6\",\"gridcolor\":\"white\",\"gridwidth\":2,\"linecolor\":\"white\",\"showbackground\":true,\"ticks\":\"\",\"zerolinecolor\":\"white\"}},\"shapedefaults\":{\"line\":{\"color\":\"#2a3f5f\"}},\"ternary\":{\"aaxis\":{\"gridcolor\":\"white\",\"linecolor\":\"white\",\"ticks\":\"\"},\"baxis\":{\"gridcolor\":\"white\",\"linecolor\":\"white\",\"ticks\":\"\"},\"bgcolor\":\"#E5ECF6\",\"caxis\":{\"gridcolor\":\"white\",\"linecolor\":\"white\",\"ticks\":\"\"}},\"title\":{\"x\":0.05},\"xaxis\":{\"automargin\":true,\"gridcolor\":\"white\",\"linecolor\":\"white\",\"ticks\":\"\",\"title\":{\"standoff\":15},\"zerolinecolor\":\"white\",\"zerolinewidth\":2},\"yaxis\":{\"automargin\":true,\"gridcolor\":\"white\",\"linecolor\":\"white\",\"ticks\":\"\",\"title\":{\"standoff\":15},\"zerolinecolor\":\"white\",\"zerolinewidth\":2}}},\"xaxis\":{\"anchor\":\"y\",\"domain\":[0.0,1.0],\"title\":{\"text\":\"air temp 9am\"}},\"yaxis\":{\"anchor\":\"x\",\"domain\":[0.0,1.0],\"title\":{\"text\":\"count\"}},\"legend\":{\"tracegroupgap\":0},\"margin\":{\"t\":60},\"barmode\":\"relative\"},                        {\"responsive\": true}                    ).then(function(){\n",
              "                            \n",
              "var gd = document.getElementById('59aecad0-5d4b-4a69-b54b-95ddd956cac2');\n",
              "var x = new MutationObserver(function (mutations, observer) {{\n",
              "        var display = window.getComputedStyle(gd).display;\n",
              "        if (!display || display === 'none') {{\n",
              "            console.log([gd, 'removed!']);\n",
              "            Plotly.purge(gd);\n",
              "            observer.disconnect();\n",
              "        }}\n",
              "}});\n",
              "\n",
              "// Listen for the removal of the full notebook cells\n",
              "var notebookContainer = gd.closest('#notebook-container');\n",
              "if (notebookContainer) {{\n",
              "    x.observe(notebookContainer, {childList: true});\n",
              "}}\n",
              "\n",
              "// Listen for the clearing of the current output cell\n",
              "var outputEl = gd.closest('.output');\n",
              "if (outputEl) {{\n",
              "    x.observe(outputEl, {childList: true});\n",
              "}}\n",
              "\n",
              "                        })                };                            </script>        </div>\n",
              "</body>\n",
              "</html>"
            ]
          },
          "metadata": {}
        }
      ]
    },
    {
      "cell_type": "code",
      "source": [
        "df_nona=df.na.drop()\n",
        "df_nona.createOrReplaceTempView(\"Weather\")\n",
        "query='SELECT relative_humidity_9am from Weather where air_temp_9am>65'\n",
        "df_people_names = spark.sql(query)\n",
        "df_people_names.show(10)"
      ],
      "metadata": {
        "colab": {
          "base_uri": "https://localhost:8080/"
        },
        "id": "LZ1IIR0QkmeD",
        "outputId": "5f18d57a-8cb7-4c96-80a4-617947c890c5"
      },
      "execution_count": 30,
      "outputs": [
        {
          "output_type": "stream",
          "name": "stdout",
          "text": [
            "+---------------------+\n",
            "|relative_humidity_9am|\n",
            "+---------------------+\n",
            "|    42.42000000000046|\n",
            "|   24.328697291802207|\n",
            "|   12.189101868764444|\n",
            "|   35.130000000000265|\n",
            "|   10.657421657822635|\n",
            "|    29.58000000000045|\n",
            "|   22.070000000000228|\n",
            "|   15.189999999999962|\n",
            "|   12.110889335294598|\n",
            "|   21.031461768790646|\n",
            "+---------------------+\n",
            "only showing top 10 rows\n",
            "\n"
          ]
        }
      ]
    },
    {
      "cell_type": "code",
      "source": [
        "from pyspark.sql.functions import col\n",
        "df_nona=df.na.drop()\n",
        "# 2 Apply the transformation and add it to the DataFrame\n",
        "df_nona = df_nona.withColumn(\"air_temp_by_rel_hum\", col(\"air_temp_9am\")>65)\n",
        "#Separate True and False in air_temp_by_rel_hum\n",
        "df_grouped_rel_hum = df_nona.groupby(\"air_temp_by_rel_hum\")\n",
        "df_grouped_rel_hum.count().show()"
      ],
      "metadata": {
        "colab": {
          "base_uri": "https://localhost:8080/"
        },
        "id": "hQNLqq3hkrI3",
        "outputId": "5e1e4bd6-c0ac-41b8-f920-36b098394b31"
      },
      "execution_count": 31,
      "outputs": [
        {
          "output_type": "stream",
          "name": "stdout",
          "text": [
            "+-------------------+-----+\n",
            "|air_temp_by_rel_hum|count|\n",
            "+-------------------+-----+\n",
            "|               true|  558|\n",
            "|              false|  506|\n",
            "+-------------------+-----+\n",
            "\n"
          ]
        }
      ]
    },
    {
      "cell_type": "code",
      "source": [
        "#Divide data\n",
        "df_gt_65=df_nona.filter(df_nona[\"air_temp_9am\"]>65)\n",
        "df_lt_65=df_nona.filter(df_nona[\"air_temp_9am\"]<=65)\n",
        "\n",
        "#Extract variable of interest\n",
        "df_gt65_humidity=df_gt_65.select(\"relative_humidity_9am\")\n",
        "df_lt65_humidity=df_lt_65.select(\"relative_humidity_9am\")\n",
        "\n",
        "#Convert to array\n",
        "df_gt65_humidity=df_gt65_humidity.rdd.map(lambda row : row.relative_humidity_9am)\n",
        "arr_gt65_humidity=df_gt65_humidity.collect()\n",
        "df_lt65_humidity=df_lt65_humidity.rdd.map(lambda row : row.relative_humidity_9am)\n",
        "arr_lt65_humidity=df_lt65_humidity.collect()\n",
        "\n",
        "#Boxplots\n",
        "fig, ax = plt.subplots()\n",
        "ax.boxplot(arr_gt65_humidity,0,\"gD\",positions = [1], widths = 0.6)\n",
        "ax.boxplot(arr_lt65_humidity,0,\"bx\",positions = [2], widths = 0.6)\n",
        "ax.set_xticklabels(['air temp 9am > 65', 'air temp 9am < 65'])\n",
        "ax.set_ylabel('% Humidity')\n",
        "ax.set_title('air humidity 9am')\n"
      ],
      "metadata": {
        "colab": {
          "base_uri": "https://localhost:8080/",
          "height": 298
        },
        "id": "YpYHkZyCkvAB",
        "outputId": "ba599104-4679-4138-8490-b2f3e9da4081"
      },
      "execution_count": 32,
      "outputs": [
        {
          "output_type": "execute_result",
          "data": {
            "text/plain": [
              "Text(0.5, 1.0, 'air humidity 9am')"
            ]
          },
          "metadata": {},
          "execution_count": 32
        },
        {
          "output_type": "display_data",
          "data": {
            "text/plain": [
              "<Figure size 432x288 with 1 Axes>"
            ],
            "image/png": "[encoded data removed]"
          },
          "metadata": {
            "needs_background": "light"
          }
        }
      ]
    },
    {
      "cell_type": "code",
      "source": [
        "#Now we develop a scatter plot\n",
        "#Select data\n",
        "df_nona=df.na.drop()\n",
        "df_temp_9am=df_nona.select(\"air_temp_9am\")\n",
        "df_humidity_9am=df_nona.select(\"relative_humidity_9am\")\n",
        "print(df_temp_9am.count(),df_humidity_9am.count())"
      ],
      "metadata": {
        "colab": {
          "base_uri": "https://localhost:8080/"
        },
        "id": "LvpXyjydkwFm",
        "outputId": "6d106df7-267b-47d2-c627-a32301c4ac09"
      },
      "execution_count": 33,
      "outputs": [
        {
          "output_type": "stream",
          "name": "stdout",
          "text": [
            "1064 1064\n"
          ]
        }
      ]
    },
    {
      "cell_type": "code",
      "source": [
        "df_temp_9am=df_temp_9am.rdd.map(lambda row : row.air_temp_9am)\n",
        "df_humidity_9am=df_humidity_9am.rdd.map(lambda row : row.relative_humidity_9am)\n",
        "arr_temp_9am=df_temp_9am.collect()\n",
        "arr_humidity_9am=df_humidity_9am.collect()"
      ],
      "metadata": {
        "id": "fI8mhBMRlDlw"
      },
      "execution_count": 34,
      "outputs": []
    },
    {
      "cell_type": "code",
      "source": [
        "#Plot\n",
        "plt.plot(arr_temp_9am,arr_humidity_9am,'b.')\n",
        "plt.xlabel(\"arr_temp_9am\")\n",
        "plt.ylabel(\"arr_humidity_9am\")\n",
        "plt.show()"
      ],
      "metadata": {
        "id": "hDftqIQ4lGxG",
        "colab": {
          "base_uri": "https://localhost:8080/",
          "height": 280
        },
        "outputId": "da838e67-c925-468e-da2f-266f929554e1"
      },
      "execution_count": 35,
      "outputs": [
        {
          "output_type": "display_data",
          "data": {
            "text/plain": [
              "<Figure size 432x288 with 1 Axes>"
            ],
            "image/png": "[encoded data removed]"
          },
          "metadata": {
            "needs_background": "light"
          }
        }
      ]
    },
    {
      "cell_type": "code",
      "source": [
        "#Line plot\n",
        "plt.plot(arr_temp_9am,'g')\n",
        "plt.xlabel(\"Time steps\")\n",
        "plt.ylabel(\"temp_9am\")\n",
        "plt.show()"
      ],
      "metadata": {
        "colab": {
          "base_uri": "https://localhost:8080/",
          "height": 279
        },
        "id": "d2gsq2nNlLKO",
        "outputId": "246e2379-9142-4ffc-c50c-980a6bfc47ba"
      },
      "execution_count": 36,
      "outputs": [
        {
          "output_type": "display_data",
          "data": {
            "text/plain": [
              "<Figure size 432x288 with 1 Axes>"
            ],
            "image/png": "[encoded data removed]"
          },
          "metadata": {
            "needs_background": "light"
          }
        }
      ]
    },
    {
      "cell_type": "code",
      "source": [
        "#Bar plot\n",
        "import plotly.express as px\n",
        "fig=px.bar(x=arr_temp_9am)\n",
        "fig.update_traces(marker_color='red',width=1.0)\n",
        "fig.update_layout(\n",
        "  autosize=False,\n",
        "  width=1000,\n",
        "  height=500,\n",
        "  yaxis=dict(\n",
        "    title_text=\"air temp 9am\",\n",
        "    ticktext=[\"Time\"],\n",
        "    tickmode=\"array\",\n",
        "    titlefont=dict(size=30),\n",
        "  )\n",
        ")\n",
        "fig.show()"
      ],
      "metadata": {
        "colab": {
          "base_uri": "https://localhost:8080/",
          "height": 537
        },
        "id": "oYsjYaRvlPnl",
        "outputId": "28a6e7ae-3bd3-45e1-b206-5bc770afc77e"
      },
      "execution_count": 37,
      "outputs": [
        {
          "output_type": "display_data",
          "data": {
            "text/html": [
              "<html>\n",
              "<head><meta charset=\"utf-8\" /></head>\n",
              "<body>\n",
              "    <div>            <script src=\"https://cdnjs.cloudflare.com/ajax/libs/mathjax/2.7.5/MathJax.js?config=TeX-AMS-MML_SVG\"></script><script type=\"text/javascript\">if (window.MathJax) {MathJax.Hub.Config({SVG: {font: \"STIX-Web\"}});}</script>                <script type=\"text/javascript\">window.PlotlyConfig = {MathJaxConfig: 'local'};</script>\n",
              "        <script src=\"https://cdn.plot.ly/plotly-2.8.3.min.js\"></script>                <div id=\"3a35c80b-49ea-456e-8a07-46ebeb52734c\" class=\"plotly-graph-div\" style=\"height:500px; width:1000px;\"></div>            <script type=\"text/javascript\">                                    window.PLOTLYENV=window.PLOTLYENV || {};                                    if (document.getElementById(\"3a35c80b-49ea-456e-8a07-46ebeb52734c\")) {                    Plotly.newPlot(                        \"3a35c80b-49ea-456e-8a07-46ebeb52734c\",                        [{\"alignmentgroup\":\"True\",\"hovertemplate\":\"x=%{x}<br>y=%{y}<extra></extra>\",\"legendgroup\":\"\",\"marker\":{\"color\":\"red\",\"pattern\":{\"shape\":\"\"}},\"name\":\"\",\"offsetgroup\":\"\",\"orientation\":\"h\",\"showlegend\":false,\"textposition\":\"auto\",\"x\":[74.82200000000041,71.40384263106537,60.637999999998776,70.13889486830053,44.29400000000284,78.40400000000422,70.04330431686239,51.710000000002346,80.58200000000384,47.4979999999998,77.0360000000015,45.71599999999757,49.78399999999978,62.43799999999798,86.43199999999833,70.86526349026626,77.01896058080769,67.08200000000228,68.5759999999986,62.96438311633252,67.67600000000394,68.81877189441205,47.5700000000002,71.659572209907,50.66600000000506,49.892000000005595,78.61999999999912,40.11800000000114,45.42800000000261,91.11200000000454,55.543999999998206,76.2260000000045,63.91400000000245,59.8820000000033,85.08199999999835,53.99599999999862,64.16600000000042,50.36000000000324,60.95534152642568,64.22000000000406,68.66600000000494,49.55000000000121,64.6880000000009,68.88200000000384,67.6580000000016,65.66000000000018,87.18800000000493,67.3159999999995,69.0310704187739,65.87599999999853,76.98200000000416,74.3359999999992,68.92146556437449,70.33053242544793,45.014000000005645,45.625999999999934,66.99200000000369,76.76600000000472,61.304000000002326,73.77799999999931,46.65200000000421,61.988000000004895,53.258000000000884,78.31400000000238,83.22799999999852,61.7540000000012,66.35298837155821,69.36800000000208,57.03648251000908,82.06433413137862,57.133499123781064,74.5153762714524,54.572000000000564,53.978000000000016,53.49199999999852,76.74220081626338,38.13800000000076,68.25199999999936,61.34000000000051,65.44400000000459,58.29799999999886,49.55000000000146,43.86200000000369,63.823999999998605,50.28800000000058,85.6616297571622,76.0820000000022,69.38887310672962,68.16199999999914,72.89987777812291,83.8399999999994,74.08463941297433,47.97039461358988,79.3759999999983,54.89600000000348,68.0938479498513,43.16000000000035,51.63800000000417,46.67000000000071,77.55799999999846,78.47600000000413,61.51866010352275,54.53600000000218,68.72379994905282,73.86799999999945,47.20999999999799,69.68737310030092,74.19200000000113,62.5999999999994,47.521110164260094,62.65400000000062,53.74400000000002,47.1380000000033,75.23600000000191,69.16552064972275,79.2446779074122,65.98399999999816,51.17000000000011,76.17200000000254,75.0019999999995,74.7320000000046,62.743999999999275,79.62800000000041,70.34564732903388,75.03800000000402,57.18647316305238,88.84400000000223,68.45261062961566,76.92800000000463,66.86600000000418,71.72600000000061,70.25000000000372,57.8102370614035,48.41600000000483,65.8972904472465,72.75199999999975,64.81400000000556,64.61826921969218,75.4160000000002,50.00212297211128,71.20382277880073,57.30800000000041,68.64800000000155,73.68800000000219,61.12808283319668,76.42400000000026,57.955999999999534,66.92000000000488,56.53274375441206,53.50999999999836,79.9519999999998,56.048000000000755,53.5640000000033,50.054000000005146,66.06856811250812,75.25061052837768,55.454000000004996,56.53400000000529,73.19115621662769,47.65999999999785,70.7180000000022,86.23975056432893,64.88600000000068,59.81076305616098,60.3140000000022,65.21846162142307,81.45133348687179,46.92200000000013,56.96600000000338,78.94400000000255,74.78600000000458,55.96469777505008,58.40600000000219,84.23600000000526,56.69600000000226,60.925999999999,68.06004298547721,51.22399999999834,72.3560000000025,61.250000000001094,84.28745579090338,84.36200000000544,77.08370529858605,71.04199999999976,56.863974057078735,69.36799999999698,55.562000000001156,57.50600000000437,47.24600000000324,42.620000000000175,66.00200000000035,48.73999999999903,73.16857812578625,47.80399999999829,75.43399999999795,60.27479795240991,60.81012419077917,49.68650272701934,66.09908715430353,50.66600000000296,62.51000000000219,41.360000000003524,84.2720000000047,74.8939999999986,59.324000000000495,63.17600000000577,64.00400000000464,79.10599999999816,75.05238781358126,58.60710230506315,45.28400000000439,78.66944499017539,45.48200000000371,60.692000000000256,40.62200000000391,48.61428416150457,60.53349648162408,70.92150084528194,74.2149877822087,68.8100000000023,79.46219997168937,40.46000000000029,79.50199999999955,63.57200000000032,66.77600000000449,65.5192357016942,72.64400000000205,56.281999999999634,76.87399999999998,70.32199999999972,62.870000000002186,69.31400000000244,70.55233655766956,42.4760000000014,71.09229020501127,62.932080539036725,57.398000000000344,49.9460000000049,62.40199999999851,75.22466242702326,55.52600000000096,63.96799999999825,65.20178968336316,40.83800000000016,74.3180000000044,45.391999999998724,59.09000000000197,74.93000000000221,68.22350764874004,68.61200000000248,72.72259406141411,73.4540000000004,71.29991157315442,68.63000000000036,80.31328745022648,65.16357022412929,74.57000000000242,89.40200000000375,84.5780000000033,73.21167025924065,70.28599999999982,68.37799999999811,64.45400000000433,63.085999999998904,59.54000000000097,60.43336922333173,63.1163285668902,64.36400000000572,45.73400000000227,49.37000000000511,50.31093889070403,68.61954067439231,85.71935990786132,78.51199999999956,86.34200000000483,68.95400000000538,49.98200000000367,74.2085841601973,49.5320000000042,56.99471668130287,75.40805734485363,82.6641642574292,51.097999999999026,48.25399999999728,52.75399999999671,64.34359080616623,51.83600000000153,81.45214955159197,77.02788349521576,75.93007449598923,72.24249064832873,49.08199999999866,73.61600000000234,48.74219853118266,43.86200000000357,77.9180000000051,57.217999999998675,61.57400000000021,51.080000000004084,63.60195396401935,56.426000000001345,72.82400000000182,78.3830144412864,69.22872652503719,84.1460000000003,44.0599999999972,85.54999999999839,89.7800000000054,76.53272584204488,67.50973313729398,63.266000000000254,48.05599999999846,63.37400000000071,54.284000000000276,78.20600000000228,58.7660000000021,53.60209408179969,54.70488429778611,44.72599999999717,71.3840000000022,79.17800000000048,62.76199999999872,58.49600000000442,62.02707784577527,68.22001132010102,61.988000000004746,73.50249594566593,74.67577296061759,52.21400000000478,39.01999999999968,45.31999999999972,63.51800000000335,42.512000000004505,72.96800000000458,81.3717456550001,76.62200000000222,46.11199999999881,47.85800000000391,79.17800000000449,81.95000000000417,66.69566729751674,58.90810931323834,43.646000000005294,60.636998458546984,45.89600000000479,59.953999999998494,66.47000000000054,68.2772227126346,67.8133014399465,81.91399999999952,58.46000000000453,61.05388861488341,68.21749493544222,62.59743171621365,71.11400000000431,69.31791272222196,65.371999999998,65.37200000000016,57.1639999999998,49.94600000000239,71.20520677788527,63.03200000000074,74.94800000000507,75.90200000000193,66.32600000000022,78.85400000000155,78.65687295829599,73.4418955237475,75.8438206680399,47.443999999998454,64.70600000000347,65.22799999999947,74.13799999999975,63.96800000000495,73.42994491349555,54.7905884936959,57.614000000000175,79.21400000000408,55.40000000000411,78.04400000000463,74.58800000000205,82.58315210842554,68.05400000000198,62.1140000000021,68.89438461233793,78.69746777674152,61.7881104612474,58.640000000003845,60.08000000000497,56.26400000000015,59.88200000000061,77.37667410979832,60.510215384615364,46.994000000004775,74.55200000000218,59.97199999999815,61.87999999999822,66.41599999999906,48.902000000000754,53.49200000000528,48.1819999999971,60.06418129210985,59.486000000003955,65.69599999999856,58.2980000000011,51.51200000000011,77.62439966843212,68.19483703100875,72.42799999999842,64.88600000000501,82.08455392635432,65.31799999999889,53.88800000000389,70.12400000000011,80.27600000000433,68.39986218870987,65.87600000000222,56.173999999998095,59.91800000000239,61.141999999998674,73.76724585346184,68.68930517949451,60.04400000000233,68.56876296971942,72.32000000000046,59.52882277399966,76.35200000000228,69.84222257073748,41.864000000000246,54.392000000005325,73.04000000000408,73.1480000000015,65.23695711208968,63.96799999999809,71.86255894863537,68.6617068374788,72.14000000000462,64.2371580326915,54.17600000000096,75.26468359989389,72.05570528724752,56.71400000000521,73.25469603247053,60.737766583624854,81.91400000000064,83.89400000000411,80.38400000000384,65.13799999999853,76.10327974914848,82.40000000000448,63.301999999998074,87.31400000000019,52.232000000001385,73.18400000000007,68.41400000000236,66.47000000000217,52.286000000000364,54.140000000000924,66.56000000000563,56.94799999999979,52.088000000001344,74.04800000000262,49.44199999999925,65.46200000000199,48.686000000004775,74.33019241903989,62.834000000002526,72.99481724604276,69.01193102847917,46.63400000000488,67.00316845804598,73.76000000000222,60.51200000000231,65.08400000000043,53.744000000001314,69.51200000000247,73.90399999999782,47.80400000000464,59.93227385576252,63.37400000000061,77.23399999999779,61.71375642904094,70.55599999999872,45.35599999999999,70.28600000000482,65.82200000000037,64.09209943587784,47.048000000003455,68.27000000000055,79.86199999999978,58.20800000000478,58.733243092918954,39.52400000000069,67.4327443006116,81.64400000000212,72.48003162597915,78.20600000000472,66.12800000000445,60.5120000000005,53.63588118481515,68.86400000000076,64.58000000000186,62.23999999999798,75.6139999999983,63.554000000004905,51.98000000000104,45.122000000005706,50.36000000000108,79.80800000000465,57.776000000004004,66.77042766076642,75.88228356230955,69.9260000000022,61.91600000000445,66.937999999999,57.39800000000012,66.05600000000359,57.63200000000471,78.87200000000233,49.71199999999934,40.10000000000114,76.55000000000467,53.114000000001234,44.329999999997156,59.71999999999876,76.02907552463105,59.3420000000047,59.60851580633838,60.849210669587585,59.68368862994506,68.74555102620387,62.870000000002186,60.43503429712115,54.82399999999946,64.18310634961433,79.91600000000203,69.16907875237322,73.21752187656296,42.692000000003894,75.76523686308754,62.1313874927262,73.70600000000334,57.524000000004065,61.21399999999874,73.02199999999822,69.53000000000148,66.73999999999843,62.26758355940379,80.79799999999841,72.55406499169483,57.39800000000555,55.51162423603436,54.139999999997364,64.17368535629576,48.037999999998576,69.81800000000213,64.8680000000013,50.71999999999946,83.00420473250027,69.85400000000477,56.994108340885354,64.47199999999951,68.89999999999779,66.63978421377365,69.34875006857136,69.47600000000124,70.61219231824708,62.5605117305458,67.60399999999804,72.35953393143345,41.48600000000511,68.21650831936142,79.75400000000502,62.959999999999496,67.53199999999796,64.16600000000179,76.96897212406137,60.31400000000066,59.072000000002134,79.76906270857705,72.77000000000423,77.50400000000009,59.2754787334636,44.708000000005704,75.56837539247823,57.200000000003776,72.39200000000191,86.93599999999859,83.13800000000404,69.77771706420214,57.54200000000202,47.0480000000014,66.0920000000041,53.07799999999934,76.28000000000114,69.65599999999795,71.87335583543259,47.942414040828226,48.362000000001686,63.984105326060295,39.956000000001005,72.40999999999698,53.559018294594026,75.50600000000425,74.40800000000408,59.34199999999826,74.30292525056294,74.8187079352237,47.57000000000362,58.87400000000126,56.57000000000175,64.11800000000231,64.63477580874674,62.990672472891596,55.09340486258315,66.02246656547246,75.92000000000421,75.21799999999841,53.96000000000455,64.49647734915405,61.855719799593714,36.752000000000685,49.802000000001144,69.73657833504198,69.16999999999865,55.760000000000666,56.48000000000439,49.10000000000071,76.74800000000047,53.31200000000381,52.55600000000464,59.88705018573941,74.938012503522,65.95033956838962,77.6721435325803,73.29200000000004,74.36171744816126,64.9400000000048,74.84000000000069,66.9740000000034,82.22000000000017,69.83600000000179,63.33495991644185,60.109241569859684,42.134000000005656,75.74000000000456,90.26600000000505,47.480000000000494,74.24599999999855,49.80200000000072,60.300907069277706,58.01000000000053,74.55199999999681,74.06660772220657,60.97999999999885,48.1819999999985,77.0532952188329,53.15492763028237,81.51024958998009,74.35871191509105,70.08800000000046,48.2719999999991,68.8100000000006,68.23400000000528,41.23400000000092,42.6920000000051,60.67400000000062,74.21000000000063,46.922000000001056,41.522000000003594,62.353513313224454,71.69000000000219,80.20400000000022,70.01599999999867,68.7379999999967,76.80200000000231,70.4660000000042,63.73400000000457,78.42200000000321,45.680000000003545,65.49800000000023,68.68782210389693,62.1319999999994,50.44999999999932,53.94200000000097,64.01853693095224,62.510000000004645,64.77799999999995,74.36302054034928,46.49000000000376,58.0851906925732,58.13599999999921,76.20799999999831,82.3999999999998,75.18941771667656,61.808000000000646,65.03000000000111,73.85313147835892,73.92200000000199,63.608000000002434,62.69000000000458,98.90599999999992,70.32199999999817,48.61116093069657,51.836000000000496,70.92035517127253,70.73600000000015,42.13400000000507,64.88420629532054,80.83583716223094,81.51800000000416,56.98687987536941,56.336000000000894,49.56800000000102,55.583586790071074,65.39000000000061,46.56199999999832,69.39881070605738,87.60199999999998,82.7419999999998,86.67660439028035,61.50199999999687,47.102000000003024,58.820000000001315,72.12200000000499,71.9060000000007,45.860000000004796,50.05400000000458,79.9879999999998,66.43582853979531,53.456000000000955,66.68754822600587,49.85600000000125,73.21899785836753,76.37283606779361,61.340000000004785,75.02000000000514,65.13800000000067,76.8740000000002,72.98237105891378,60.421240256239564,83.63697419687428,60.58399999999923,64.47200000000518,55.13000000000146,51.385999999999505,73.29200000000233,53.06000000000074,74.48397319983243,61.44800000000053,62.18403182249014,73.75343537150646,72.59000000000471,72.22999999999931,55.1660000000035,66.52878596266024,85.58599999999956,68.77400000000259,45.33799999999712,84.48799999999983,57.56000000000406,72.20937256466777,82.81400000000394,72.0140000000042,57.03800000000425,47.983999999996975,65.66748193627441,67.90605741841837,58.9459999999994,64.25058522100532,82.88599999999916,59.81000000000422,63.8584445820022,71.78000000000068,51.60200000000471,42.70311604796972,49.31599999999948,82.43600000000423,61.50200000000071,87.00799999999947,47.78600000000589,57.093129640299075,64.05799999999695,66.75800000000258,46.86799999999808,83.01199999999847,75.47000000000129,69.27799999999992,75.24016923267973,58.75454852928576,79.5380000000048,41.00000000000104,52.03400000000593,71.29400000000456,54.15816917595186,67.32501280533377,63.050000000001404,59.216000000000896,67.32097329289095,69.13400000000478,62.72080284002424,69.51200000000351,59.43200000000521,70.94586688286009,77.36000000000254,69.53207695608285,59.81000000000026,49.89200000000064,62.56449594770113,81.26600000000465,60.476000000004156,77.30113674726161,59.42855506792287,79.34000000000451,55.184000000003074,46.61599999999885,76.04600000000389,79.98800000000413,72.93199999999865,56.64583782273924,77.34951428519682,75.23599999999858,68.65897256510098,46.021999999998776,61.0160000000024,71.47359192617085,57.07364499017384,75.36562384160976,73.40000000000212,73.18399999999993,52.97000000000097,51.3550080272172,39.524000000000974,74.59301339262646,53.941999999997684,68.39534225647748,74.83131615280287,73.22148688978905,75.70030203530958,55.09399999999899,50.41400000000039,72.08517343957939,77.73800000000237,71.78000000000414,46.562000000000154,69.2960000000004,89.20400000000464,79.21400000000443,59.82800000000221,68.24414977294431,79.44800000000203,87.13618304623853,66.46657459067279,48.03800000000364,42.63799999999879,50.61200000000433,58.273014739341484,64.38200000000482,68.95399999999952,67.0640000000023,69.42200000000457,52.321999999999285,62.491999999999244,59.07781765998445,81.75199999999823,74.0299999999969,69.00800000000403,74.01465699478386,80.66103182500288,65.95111244177072,66.77600000000498,64.99400000000328,59.811801720571665,61.286000000002346,61.2496174315076,74.40354196840171,67.28122262242306,62.231039216646934,50.96480351798568,43.59200000000507,58.09476625098937,87.44000000000358,40.28000000000075,71.83114161637714,73.20199999999845,49.19000000000514,70.48400000000083,69.5479999999983,46.2380000000036,68.35999999999822,80.22937326268298,51.41195136479528,58.04600000000248,71.99600000000409,70.86005799308916,69.81576331696704,49.42399999999871,64.86800000000403,64.11199999999894,77.66600000000342,66.95311020559066,67.1180000000022,70.08800000000161,51.81800000000507,85.45999999999954,73.76000000000441,37.0400000000044,77.73800000000041,60.60200000000233,71.07800000000105,62.15000000000234,78.02312025759346,68.80559524322835,77.86399999999973,61.808000000004036,65.98399999999911,63.485522277386394,62.86999999999846,53.294000000000416,72.42800000000388,68.1943223203919,47.69599999999707,71.42000000000174,67.6580000000051,68.25382288107109,69.74583003618581,70.10600000000429,73.45400000000514,62.33000000000077,64.73442449542296,82.36399999999959,68.26999999999832,62.77940833058832,84.02000000000112,62.583025337212746,53.80033018193415,74.90201927567524,59.91799999999904,67.04600000000066,81.7833354681888,59.32400000000386,66.61972521016877,70.01600000000467,66.57096157045996,75.07399999999828,73.81400000000222,60.671663851367974,55.57999999999953,65.02999999999835,69.20600000000053,44.63600000000135,76.70823367429156,77.84600000000404,62.815791507164306,75.66404848184385,63.4640000000015,69.02818204076306,62.99600000000062,38.58800000000512,78.53000000000067,51.81799999999812,65.51600000000334,82.45400000000119,55.42180155273967,72.89100070400633,70.23498504469514,74.51600000000465,65.73495809770884,76.13600000000443,77.75600000000007,71.11400000000232,61.40668743490826,79.32200000000256,76.06409875788071,59.8194529132862,43.6820000000008,57.272000000000354,71.57442861020914,71.81600000000228,82.33491950907279,72.22044332563429,56.335999999999984,47.822000000000976,60.49399999999911,55.27400000000458,60.14793282340539,65.67800000000521,64.8139999999967,79.17799999999951,62.727070277656054,68.30599999999846,64.18400000000221,68.7891678500381,74.44400000000215,61.44972239769141,49.874000000004386,59.97200000000458,75.62894881660394,58.40599999999907,80.38399999999841,48.128000000005066,56.13799999999821,57.398000000004025,69.77352414977909,65.67799999999804,85.29200269373237,73.61600000000251,61.58215525160775,59.08935013519629,74.19603742252409,69.05672280595338,58.234519340991056,74.119999999998,63.48200000000554,55.274000000003646,60.601639811411786,68.19800000000555,73.70600000000438,51.296000000005286,62.36600000000452,71.31200000000422,82.66999999999986,71.63345647876707,61.791279325588604,79.51791003150488,80.98892224209385,60.96645400661299,72.82400000000482,63.986000000004594,74.83999999999858,59.0900000000021,78.33200000000203,64.14800225888986,76.22600000000237,79.73599999999936,69.5840000000023,64.99400000000027,68.86399999999999,82.22000000000013,46.346000000000295,70.24999999999895,75.5960000000034,84.65000000000404,66.93800000000249,64.98936079015147,50.918000000000795,73.29200000000472,68.37030689659376,65.26400000000413,79.7720000000021,69.8843380576341,50.10799999999837,48.308000000002146,80.24000000000005,47.354000000005435,52.646000000000896,66.64999999999851,71.87000000000026,55.04000000000046,63.104000000000674,49.567999999999316,71.09600000000553,58.406000000005385,77.7020000000024],\"xaxis\":\"x\",\"y\":[0,1,2,3,4,5,6,7,8,9,10,11,12,13,14,15,16,17,18,19,20,21,22,23,24,25,26,27,28,29,30,31,32,33,34,35,36,37,38,39,40,41,42,43,44,45,46,47,48,49,50,51,52,53,54,55,56,57,58,59,60,61,62,63,64,65,66,67,68,69,70,71,72,73,74,75,76,77,78,79,80,81,82,83,84,85,86,87,88,89,90,91,92,93,94,95,96,97,98,99,100,101,102,103,104,105,106,107,108,109,110,111,112,113,114,115,116,117,118,119,120,121,122,123,124,125,126,127,128,129,130,131,132,133,134,135,136,137,138,139,140,141,142,143,144,145,146,147,148,149,150,151,152,153,154,155,156,157,158,159,160,161,162,163,164,165,166,167,168,169,170,171,172,173,174,175,176,177,178,179,180,181,182,183,184,185,186,187,188,189,190,191,192,193,194,195,196,197,198,199,200,201,202,203,204,205,206,207,208,209,210,211,212,213,214,215,216,217,218,219,220,221,222,223,224,225,226,227,228,229,230,231,232,233,234,235,236,237,238,239,240,241,242,243,244,245,246,247,248,249,250,251,252,253,254,255,256,257,258,259,260,261,262,263,264,265,266,267,268,269,270,271,272,273,274,275,276,277,278,279,280,281,282,283,284,285,286,287,288,289,290,291,292,293,294,295,296,297,298,299,300,301,302,303,304,305,306,307,308,309,310,311,312,313,314,315,316,317,318,319,320,321,322,323,324,325,326,327,328,329,330,331,332,333,334,335,336,337,338,339,340,341,342,343,344,345,346,347,348,349,350,351,352,353,354,355,356,357,358,359,360,361,362,363,364,365,366,367,368,369,370,371,372,373,374,375,376,377,378,379,380,381,382,383,384,385,386,387,388,389,390,391,392,393,394,395,396,397,398,399,400,401,402,403,404,405,406,407,408,409,410,411,412,413,414,415,416,417,418,419,420,421,422,423,424,425,426,427,428,429,430,431,432,433,434,435,436,437,438,439,440,441,442,443,444,445,446,447,448,449,450,451,452,453,454,455,456,457,458,459,460,461,462,463,464,465,466,467,468,469,470,471,472,473,474,475,476,477,478,479,480,481,482,483,484,485,486,487,488,489,490,491,492,493,494,495,496,497,498,499,500,501,502,503,504,505,506,507,508,509,510,511,512,513,514,515,516,517,518,519,520,521,522,523,524,525,526,527,528,529,530,531,532,533,534,535,536,537,538,539,540,541,542,543,544,545,546,547,548,549,550,551,552,553,554,555,556,557,558,559,560,561,562,563,564,565,566,567,568,569,570,571,572,573,574,575,576,577,578,579,580,581,582,583,584,585,586,587,588,589,590,591,592,593,594,595,596,597,598,599,600,601,602,603,604,605,606,607,608,609,610,611,612,613,614,615,616,617,618,619,620,621,622,623,624,625,626,627,628,629,630,631,632,633,634,635,636,637,638,639,640,641,642,643,644,645,646,647,648,649,650,651,652,653,654,655,656,657,658,659,660,661,662,663,664,665,666,667,668,669,670,671,672,673,674,675,676,677,678,679,680,681,682,683,684,685,686,687,688,689,690,691,692,693,694,695,696,697,698,699,700,701,702,703,704,705,706,707,708,709,710,711,712,713,714,715,716,717,718,719,720,721,722,723,724,725,726,727,728,729,730,731,732,733,734,735,736,737,738,739,740,741,742,743,744,745,746,747,748,749,750,751,752,753,754,755,756,757,758,759,760,761,762,763,764,765,766,767,768,769,770,771,772,773,774,775,776,777,778,779,780,781,782,783,784,785,786,787,788,789,790,791,792,793,794,795,796,797,798,799,800,801,802,803,804,805,806,807,808,809,810,811,812,813,814,815,816,817,818,819,820,821,822,823,824,825,826,827,828,829,830,831,832,833,834,835,836,837,838,839,840,841,842,843,844,845,846,847,848,849,850,851,852,853,854,855,856,857,858,859,860,861,862,863,864,865,866,867,868,869,870,871,872,873,874,875,876,877,878,879,880,881,882,883,884,885,886,887,888,889,890,891,892,893,894,895,896,897,898,899,900,901,902,903,904,905,906,907,908,909,910,911,912,913,914,915,916,917,918,919,920,921,922,923,924,925,926,927,928,929,930,931,932,933,934,935,936,937,938,939,940,941,942,943,944,945,946,947,948,949,950,951,952,953,954,955,956,957,958,959,960,961,962,963,964,965,966,967,968,969,970,971,972,973,974,975,976,977,978,979,980,981,982,983,984,985,986,987,988,989,990,991,992,993,994,995,996,997,998,999,1000,1001,1002,1003,1004,1005,1006,1007,1008,1009,1010,1011,1012,1013,1014,1015,1016,1017,1018,1019,1020,1021,1022,1023,1024,1025,1026,1027,1028,1029,1030,1031,1032,1033,1034,1035,1036,1037,1038,1039,1040,1041,1042,1043,1044,1045,1046,1047,1048,1049,1050,1051,1052,1053,1054,1055,1056,1057,1058,1059,1060,1061,1062,1063],\"yaxis\":\"y\",\"type\":\"bar\",\"width\":1.0}],                        {\"template\":{\"data\":{\"bar\":[{\"error_x\":{\"color\":\"#2a3f5f\"},\"error_y\":{\"color\":\"#2a3f5f\"},\"marker\":{\"line\":{\"color\":\"#E5ECF6\",\"width\":0.5},\"pattern\":{\"fillmode\":\"overlay\",\"size\":10,\"solidity\":0.2}},\"type\":\"bar\"}],\"barpolar\":[{\"marker\":{\"line\":{\"color\":\"#E5ECF6\",\"width\":0.5},\"pattern\":{\"fillmode\":\"overlay\",\"size\":10,\"solidity\":0.2}},\"type\":\"barpolar\"}],\"carpet\":[{\"aaxis\":{\"endlinecolor\":\"#2a3f5f\",\"gridcolor\":\"white\",\"linecolor\":\"white\",\"minorgridcolor\":\"white\",\"startlinecolor\":\"#2a3f5f\"},\"baxis\":{\"endlinecolor\":\"#2a3f5f\",\"gridcolor\":\"white\",\"linecolor\":\"white\",\"minorgridcolor\":\"white\",\"startlinecolor\":\"#2a3f5f\"},\"type\":\"carpet\"}],\"choropleth\":[{\"colorbar\":{\"outlinewidth\":0,\"ticks\":\"\"},\"type\":\"choropleth\"}],\"contour\":[{\"colorbar\":{\"outlinewidth\":0,\"ticks\":\"\"},\"colorscale\":[[0.0,\"#0d0887\"],[0.1111111111111111,\"#46039f\"],[0.2222222222222222,\"#7201a8\"],[0.3333333333333333,\"#9c179e\"],[0.4444444444444444,\"#bd3786\"],[0.5555555555555556,\"#d8576b\"],[0.6666666666666666,\"#ed7953\"],[0.7777777777777778,\"#fb9f3a\"],[0.8888888888888888,\"#fdca26\"],[1.0,\"#f0f921\"]],\"type\":\"contour\"}],\"contourcarpet\":[{\"colorbar\":{\"outlinewidth\":0,\"ticks\":\"\"},\"type\":\"contourcarpet\"}],\"heatmap\":[{\"colorbar\":{\"outlinewidth\":0,\"ticks\":\"\"},\"colorscale\":[[0.0,\"#0d0887\"],[0.1111111111111111,\"#46039f\"],[0.2222222222222222,\"#7201a8\"],[0.3333333333333333,\"#9c179e\"],[0.4444444444444444,\"#bd3786\"],[0.5555555555555556,\"#d8576b\"],[0.6666666666666666,\"#ed7953\"],[0.7777777777777778,\"#fb9f3a\"],[0.8888888888888888,\"#fdca26\"],[1.0,\"#f0f921\"]],\"type\":\"heatmap\"}],\"heatmapgl\":[{\"colorbar\":{\"outlinewidth\":0,\"ticks\":\"\"},\"colorscale\":[[0.0,\"#0d0887\"],[0.1111111111111111,\"#46039f\"],[0.2222222222222222,\"#7201a8\"],[0.3333333333333333,\"#9c179e\"],[0.4444444444444444,\"#bd3786\"],[0.5555555555555556,\"#d8576b\"],[0.6666666666666666,\"#ed7953\"],[0.7777777777777778,\"#fb9f3a\"],[0.8888888888888888,\"#fdca26\"],[1.0,\"#f0f921\"]],\"type\":\"heatmapgl\"}],\"histogram\":[{\"marker\":{\"pattern\":{\"fillmode\":\"overlay\",\"size\":10,\"solidity\":0.2}},\"type\":\"histogram\"}],\"histogram2d\":[{\"colorbar\":{\"outlinewidth\":0,\"ticks\":\"\"},\"colorscale\":[[0.0,\"#0d0887\"],[0.1111111111111111,\"#46039f\"],[0.2222222222222222,\"#7201a8\"],[0.3333333333333333,\"#9c179e\"],[0.4444444444444444,\"#bd3786\"],[0.5555555555555556,\"#d8576b\"],[0.6666666666666666,\"#ed7953\"],[0.7777777777777778,\"#fb9f3a\"],[0.8888888888888888,\"#fdca26\"],[1.0,\"#f0f921\"]],\"type\":\"histogram2d\"}],\"histogram2dcontour\":[{\"colorbar\":{\"outlinewidth\":0,\"ticks\":\"\"},\"colorscale\":[[0.0,\"#0d0887\"],[0.1111111111111111,\"#46039f\"],[0.2222222222222222,\"#7201a8\"],[0.3333333333333333,\"#9c179e\"],[0.4444444444444444,\"#bd3786\"],[0.5555555555555556,\"#d8576b\"],[0.6666666666666666,\"#ed7953\"],[0.7777777777777778,\"#fb9f3a\"],[0.8888888888888888,\"#fdca26\"],[1.0,\"#f0f921\"]],\"type\":\"histogram2dcontour\"}],\"mesh3d\":[{\"colorbar\":{\"outlinewidth\":0,\"ticks\":\"\"},\"type\":\"mesh3d\"}],\"parcoords\":[{\"line\":{\"colorbar\":{\"outlinewidth\":0,\"ticks\":\"\"}},\"type\":\"parcoords\"}],\"pie\":[{\"automargin\":true,\"type\":\"pie\"}],\"scatter\":[{\"marker\":{\"colorbar\":{\"outlinewidth\":0,\"ticks\":\"\"}},\"type\":\"scatter\"}],\"scatter3d\":[{\"line\":{\"colorbar\":{\"outlinewidth\":0,\"ticks\":\"\"}},\"marker\":{\"colorbar\":{\"outlinewidth\":0,\"ticks\":\"\"}},\"type\":\"scatter3d\"}],\"scattercarpet\":[{\"marker\":{\"colorbar\":{\"outlinewidth\":0,\"ticks\":\"\"}},\"type\":\"scattercarpet\"}],\"scattergeo\":[{\"marker\":{\"colorbar\":{\"outlinewidth\":0,\"ticks\":\"\"}},\"type\":\"scattergeo\"}],\"scattergl\":[{\"marker\":{\"colorbar\":{\"outlinewidth\":0,\"ticks\":\"\"}},\"type\":\"scattergl\"}],\"scattermapbox\":[{\"marker\":{\"colorbar\":{\"outlinewidth\":0,\"ticks\":\"\"}},\"type\":\"scattermapbox\"}],\"scatterpolar\":[{\"marker\":{\"colorbar\":{\"outlinewidth\":0,\"ticks\":\"\"}},\"type\":\"scatterpolar\"}],\"scatterpolargl\":[{\"marker\":{\"colorbar\":{\"outlinewidth\":0,\"ticks\":\"\"}},\"type\":\"scatterpolargl\"}],\"scatterternary\":[{\"marker\":{\"colorbar\":{\"outlinewidth\":0,\"ticks\":\"\"}},\"type\":\"scatterternary\"}],\"surface\":[{\"colorbar\":{\"outlinewidth\":0,\"ticks\":\"\"},\"colorscale\":[[0.0,\"#0d0887\"],[0.1111111111111111,\"#46039f\"],[0.2222222222222222,\"#7201a8\"],[0.3333333333333333,\"#9c179e\"],[0.4444444444444444,\"#bd3786\"],[0.5555555555555556,\"#d8576b\"],[0.6666666666666666,\"#ed7953\"],[0.7777777777777778,\"#fb9f3a\"],[0.8888888888888888,\"#fdca26\"],[1.0,\"#f0f921\"]],\"type\":\"surface\"}],\"table\":[{\"cells\":{\"fill\":{\"color\":\"#EBF0F8\"},\"line\":{\"color\":\"white\"}},\"header\":{\"fill\":{\"color\":\"#C8D4E3\"},\"line\":{\"color\":\"white\"}},\"type\":\"table\"}]},\"layout\":{\"annotationdefaults\":{\"arrowcolor\":\"#2a3f5f\",\"arrowhead\":0,\"arrowwidth\":1},\"autotypenumbers\":\"strict\",\"coloraxis\":{\"colorbar\":{\"outlinewidth\":0,\"ticks\":\"\"}},\"colorscale\":{\"diverging\":[[0,\"#8e0152\"],[0.1,\"#c51b7d\"],[0.2,\"#de77ae\"],[0.3,\"#f1b6da\"],[0.4,\"#fde0ef\"],[0.5,\"#f7f7f7\"],[0.6,\"#e6f5d0\"],[0.7,\"#b8e186\"],[0.8,\"#7fbc41\"],[0.9,\"#4d9221\"],[1,\"#276419\"]],\"sequential\":[[0.0,\"#0d0887\"],[0.1111111111111111,\"#46039f\"],[0.2222222222222222,\"#7201a8\"],[0.3333333333333333,\"#9c179e\"],[0.4444444444444444,\"#bd3786\"],[0.5555555555555556,\"#d8576b\"],[0.6666666666666666,\"#ed7953\"],[0.7777777777777778,\"#fb9f3a\"],[0.8888888888888888,\"#fdca26\"],[1.0,\"#f0f921\"]],\"sequentialminus\":[[0.0,\"#0d0887\"],[0.1111111111111111,\"#46039f\"],[0.2222222222222222,\"#7201a8\"],[0.3333333333333333,\"#9c179e\"],[0.4444444444444444,\"#bd3786\"],[0.5555555555555556,\"#d8576b\"],[0.6666666666666666,\"#ed7953\"],[0.7777777777777778,\"#fb9f3a\"],[0.8888888888888888,\"#fdca26\"],[1.0,\"#f0f921\"]]},\"colorway\":[\"#636efa\",\"#EF553B\",\"#00cc96\",\"#ab63fa\",\"#FFA15A\",\"#19d3f3\",\"#FF6692\",\"#B6E880\",\"#FF97FF\",\"#FECB52\"],\"font\":{\"color\":\"#2a3f5f\"},\"geo\":{\"bgcolor\":\"white\",\"lakecolor\":\"white\",\"landcolor\":\"#E5ECF6\",\"showlakes\":true,\"showland\":true,\"subunitcolor\":\"white\"},\"hoverlabel\":{\"align\":\"left\"},\"hovermode\":\"closest\",\"mapbox\":{\"style\":\"light\"},\"paper_bgcolor\":\"white\",\"plot_bgcolor\":\"#E5ECF6\",\"polar\":{\"angularaxis\":{\"gridcolor\":\"white\",\"linecolor\":\"white\",\"ticks\":\"\"},\"bgcolor\":\"#E5ECF6\",\"radialaxis\":{\"gridcolor\":\"white\",\"linecolor\":\"white\",\"ticks\":\"\"}},\"scene\":{\"xaxis\":{\"backgroundcolor\":\"#E5ECF6\",\"gridcolor\":\"white\",\"gridwidth\":2,\"linecolor\":\"white\",\"showbackground\":true,\"ticks\":\"\",\"zerolinecolor\":\"white\"},\"yaxis\":{\"backgroundcolor\":\"#E5ECF6\",\"gridcolor\":\"white\",\"gridwidth\":2,\"linecolor\":\"white\",\"showbackground\":true,\"ticks\":\"\",\"zerolinecolor\":\"white\"},\"zaxis\":{\"backgroundcolor\":\"#E5ECF6\",\"gridcolor\":\"white\",\"gridwidth\":2,\"linecolor\":\"white\",\"showbackground\":true,\"ticks\":\"\",\"zerolinecolor\":\"white\"}},\"shapedefaults\":{\"line\":{\"color\":\"#2a3f5f\"}},\"ternary\":{\"aaxis\":{\"gridcolor\":\"white\",\"linecolor\":\"white\",\"ticks\":\"\"},\"baxis\":{\"gridcolor\":\"white\",\"linecolor\":\"white\",\"ticks\":\"\"},\"bgcolor\":\"#E5ECF6\",\"caxis\":{\"gridcolor\":\"white\",\"linecolor\":\"white\",\"ticks\":\"\"}},\"title\":{\"x\":0.05},\"xaxis\":{\"automargin\":true,\"gridcolor\":\"white\",\"linecolor\":\"white\",\"ticks\":\"\",\"title\":{\"standoff\":15},\"zerolinecolor\":\"white\",\"zerolinewidth\":2},\"yaxis\":{\"automargin\":true,\"gridcolor\":\"white\",\"linecolor\":\"white\",\"ticks\":\"\",\"title\":{\"standoff\":15},\"zerolinecolor\":\"white\",\"zerolinewidth\":2}}},\"xaxis\":{\"anchor\":\"y\",\"domain\":[0.0,1.0],\"title\":{\"text\":\"x\"}},\"yaxis\":{\"anchor\":\"x\",\"domain\":[0.0,1.0],\"title\":{\"text\":\"air temp 9am\",\"font\":{\"size\":30}},\"ticktext\":[\"Time\"],\"tickmode\":\"array\"},\"legend\":{\"tracegroupgap\":0},\"margin\":{\"t\":60},\"barmode\":\"relative\",\"autosize\":false,\"width\":1000,\"height\":500},                        {\"responsive\": true}                    ).then(function(){\n",
              "                            \n",
              "var gd = document.getElementById('3a35c80b-49ea-456e-8a07-46ebeb52734c');\n",
              "var x = new MutationObserver(function (mutations, observer) {{\n",
              "        var display = window.getComputedStyle(gd).display;\n",
              "        if (!display || display === 'none') {{\n",
              "            console.log([gd, 'removed!']);\n",
              "            Plotly.purge(gd);\n",
              "            observer.disconnect();\n",
              "        }}\n",
              "}});\n",
              "\n",
              "// Listen for the removal of the full notebook cells\n",
              "var notebookContainer = gd.closest('#notebook-container');\n",
              "if (notebookContainer) {{\n",
              "    x.observe(notebookContainer, {childList: true});\n",
              "}}\n",
              "\n",
              "// Listen for the clearing of the current output cell\n",
              "var outputEl = gd.closest('.output');\n",
              "if (outputEl) {{\n",
              "    x.observe(outputEl, {childList: true});\n",
              "}}\n",
              "\n",
              "                        })                };                            </script>        </div>\n",
              "</body>\n",
              "</html>"
            ]
          },
          "metadata": {}
        }
      ]
    },
    {
      "cell_type": "code",
      "source": [
        "#Create 3D Scatter plot\n",
        "#Extract info\n",
        "df_nona=df.na.drop()\n",
        "df_nona=df_nona.sample(False,0.1)\n",
        "df_temp_9am=df_nona.select(\"air_temp_9am\")\n",
        "df_humidity_9am=df_nona.select(\"relative_humidity_9am\")\n",
        "df_pressure_9am=df_nona.select(\"air_pressure_9am\")\n",
        "\n",
        "#Create arrays\n",
        "df_temp_9am=df_temp_9am.rdd.map(lambda row : row.air_temp_9am)\n",
        "df_humidity_9am=df_humidity_9am.rdd.map(lambda row : row.relative_humidity_9am)\n",
        "df_pressure_9am=df_pressure_9am.rdd.map(lambda row : row.air_pressure_9am)\n",
        "arr_temp_9am=df_temp_9am.collect()\n",
        "arr_humidity_9am=df_humidity_9am.collect()\n",
        "arr_pressure_9am=df_pressure_9am.collect()\n",
        "\n",
        "#Plot 3D\n",
        "from mpl_toolkits.mplot3d import Axes3D\n",
        "fig = plt.figure()\n",
        "ax = fig.add_subplot(111, projection='3d')\n",
        "ax.scatter(arr_temp_9am, arr_humidity_9am, arr_pressure_9am, marker='o')\n",
        "ax.set_xlabel(\"air_temp_9am\")\n",
        "ax.set_ylabel(\"relative_humidity_9am\")\n",
        "ax.set_zlabel(\"air_pressure_9am\")\n",
        "plt.show()"
      ],
      "metadata": {
        "colab": {
          "base_uri": "https://localhost:8080/",
          "height": 248
        },
        "id": "sNDw1w24lzkB",
        "outputId": "1d64e279-f173-4840-f79d-280e08150072"
      },
      "execution_count": 38,
      "outputs": [
        {
          "output_type": "display_data",
          "data": {
            "text/plain": [
              "<Figure size 432x288 with 1 Axes>"
            ],
            "image/png": "[encoded data removed]"
          },
          "metadata": {
            "needs_background": "light"
          }
        }
      ]
    }
  ]
}